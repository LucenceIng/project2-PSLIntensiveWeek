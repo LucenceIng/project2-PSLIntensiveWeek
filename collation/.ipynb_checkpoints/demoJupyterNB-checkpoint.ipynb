{
 "cells": [
  {
   "cell_type": "code",
   "execution_count": 1,
   "id": "c6d2849c",
   "metadata": {},
   "outputs": [
    {
     "name": "stdout",
     "output_type": "stream",
     "text": [
      "Bonjour\n"
     ]
    }
   ],
   "source": [
    "##demo carnet jupyter\n",
    "\n",
    "#imprimer une chaîne de caractères\n",
    "print(\"Bonjour\")"
   ]
  },
  {
   "cell_type": "code",
   "execution_count": 2,
   "id": "1c972b35",
   "metadata": {},
   "outputs": [],
   "source": [
    "#enregistrer une variable\n",
    "variable = \"Bonjour\""
   ]
  },
  {
   "cell_type": "code",
   "execution_count": 3,
   "id": "808eaf1f",
   "metadata": {},
   "outputs": [
    {
     "data": {
      "text/plain": [
       "'Bonjour'"
      ]
     },
     "execution_count": 3,
     "metadata": {},
     "output_type": "execute_result"
    }
   ],
   "source": [
    "#demander la valeur de la variable\n",
    "variable"
   ]
  },
  {
   "cell_type": "code",
   "execution_count": 4,
   "id": "c0d03dc0",
   "metadata": {},
   "outputs": [],
   "source": [
    "#deuxième variable\n",
    "v2 = 33"
   ]
  },
  {
   "cell_type": "code",
   "execution_count": 5,
   "id": "92f6e54e",
   "metadata": {},
   "outputs": [
    {
     "data": {
      "text/plain": [
       "33"
      ]
     },
     "execution_count": 5,
     "metadata": {},
     "output_type": "execute_result"
    }
   ],
   "source": [
    "v2"
   ]
  },
  {
   "cell_type": "code",
   "execution_count": 6,
   "id": "acadcf5b",
   "metadata": {},
   "outputs": [],
   "source": [
    "#troisième variable\n",
    "i = 1"
   ]
  },
  {
   "cell_type": "code",
   "execution_count": 7,
   "id": "57d31d65",
   "metadata": {},
   "outputs": [
    {
     "data": {
      "text/plain": [
       "1"
      ]
     },
     "execution_count": 7,
     "metadata": {},
     "output_type": "execute_result"
    }
   ],
   "source": [
    "i"
   ]
  },
  {
   "cell_type": "code",
   "execution_count": 8,
   "id": "77b7d5a7",
   "metadata": {},
   "outputs": [
    {
     "name": "stdout",
     "output_type": "stream",
     "text": [
      "1\n",
      "4\n",
      "7\n",
      "10\n",
      "13\n",
      "16\n",
      "19\n",
      "22\n",
      "25\n"
     ]
    }
   ],
   "source": [
    "#utilisation de la variable i\n",
    "#tant que i est inférieur à 25\n",
    "while i <= 25:\n",
    "    #imprimer i\n",
    "    print(i)\n",
    "    #i prend une valeur de 4\n",
    "    i = i + 3\n",
    "    #i est toujours inférieur à 25, donc on reprend la boucle conditionnelle"
   ]
  },
  {
   "cell_type": "code",
   "execution_count": 9,
   "id": "516f3d94",
   "metadata": {},
   "outputs": [
    {
     "name": "stdout",
     "output_type": "stream",
     "text": [
      "1\n",
      "2\n",
      "3\n",
      "4\n",
      "5\n",
      "6\n",
      "7\n",
      "8\n",
      "9\n"
     ]
    }
   ],
   "source": [
    "#boucle simple\n",
    "#pour tout j à l'intérieur de l'intervalle 1-10, imprimer j\n",
    "for j in range(1,10):\n",
    "    print(j)"
   ]
  },
  {
   "cell_type": "code",
   "execution_count": 10,
   "id": "9c4fd6be",
   "metadata": {},
   "outputs": [
    {
     "data": {
      "text/plain": [
       "33"
      ]
     },
     "execution_count": 10,
     "metadata": {},
     "output_type": "execute_result"
    }
   ],
   "source": [
    "#v2 est toujours là !\n",
    "v2"
   ]
  }
 ],
 "metadata": {
  "kernelspec": {
   "display_name": "Python 3",
   "language": "python",
   "name": "python3"
  },
  "language_info": {
   "codemirror_mode": {
    "name": "ipython",
    "version": 3
   },
   "file_extension": ".py",
   "mimetype": "text/x-python",
   "name": "python",
   "nbconvert_exporter": "python",
   "pygments_lexer": "ipython3",
   "version": "3.6.9"
  }
 },
 "nbformat": 4,
 "nbformat_minor": 5
}
