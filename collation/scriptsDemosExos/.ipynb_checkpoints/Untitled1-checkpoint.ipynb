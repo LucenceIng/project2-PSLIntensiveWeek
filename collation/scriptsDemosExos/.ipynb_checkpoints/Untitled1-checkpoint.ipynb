{
 "cells": [
  {
   "cell_type": "code",
   "execution_count": 1,
   "id": "4ef4cde2",
   "metadata": {},
   "outputs": [],
   "source": [
    "#importer collatex\n",
    "from collatex import *"
   ]
  },
  {
   "cell_type": "code",
   "execution_count": 15,
   "id": "e7535216",
   "metadata": {},
   "outputs": [],
   "source": [
    "#on crée l'objet collation\n",
    "collation = Collation()\n",
    "\n",
    "#on ajoute deux témoins : on a besoin de l'identifiant du témoin et du texte\n",
    "collation.add_plain_witness(\"A\", \"Mais au povre home doit l’en doner tex choses qui soient plus boenes que beles.\")\n",
    "collation.add_plain_witness(\"B\", \"mais aux povres hommes doit on telles choses donner qui soient plus bonnes que belles.\")"
   ]
  },
  {
   "cell_type": "code",
   "execution_count": 16,
   "id": "0ff26766",
   "metadata": {},
   "outputs": [],
   "source": [
    "#on collationne\n",
    "alignment_table = collate(collation)"
   ]
  },
  {
   "cell_type": "code",
   "execution_count": 17,
   "id": "113db771",
   "metadata": {},
   "outputs": [
    {
     "name": "stdout",
     "output_type": "stream",
     "text": [
      "+---+------------------------+------+----------------+--------+--------+-----------------+--------+-----+--------+---+\n",
      "| A | Mais au povre home     | doit | l’en doner tex | choses | -      | qui soient plus | boenes | que | beles  | . |\n",
      "| B | mais aux povres hommes | doit | on telles      | choses | donner | qui soient plus | bonnes | que | belles | . |\n",
      "+---+------------------------+------+----------------+--------+--------+-----------------+--------+-----+--------+---+\n"
     ]
    }
   ],
   "source": [
    "#par défaut, table\n",
    "print(alignment_table)"
   ]
  },
  {
   "cell_type": "code",
   "execution_count": 19,
   "id": "c656d538",
   "metadata": {},
   "outputs": [
    {
     "name": "stdout",
     "output_type": "stream",
     "text": [
      "+---+------+-----+--------+--------+------+----+--------+----+-------+-----+--------+--------+-----+--------+------+--------+-----+--------+---+\n",
      "| A | Mais | au  | povre  | home   | doit | l  | ’      | en | doner | tex | choses | -      | qui | soient | plus | boenes | que | beles  | . |\n",
      "| B | mais | aux | povres | hommes | doit | on | telles | -  | -     | -   | choses | donner | qui | soient | plus | bonnes | que | belles | . |\n",
      "+---+------+-----+--------+--------+------+----+--------+----+-------+-----+--------+--------+-----+--------+------+--------+-----+--------+---+\n"
     ]
    }
   ],
   "source": [
    "#ajout de l'option : segmentation=False pour aligner mot à mot\n",
    "alignment_table = collate(collation,segmentation=False)\n",
    "\n",
    "print(alignment_table)"
   ]
  },
  {
   "cell_type": "code",
   "execution_count": 24,
   "id": "5064aa70",
   "metadata": {},
   "outputs": [
    {
     "data": {
      "text/html": [
       "<table>\n",
       "    <thead>\n",
       "        <tr>\n",
       "            <th>A</th>\n",
       "            <th>B</th>\n",
       "        </tr>\n",
       "    </thead>\n",
       "    <tbody>\n",
       "        <tr>\n",
       "            <td>Mais</td>\n",
       "            <td>mais</td>\n",
       "        </tr>\n",
       "        <tr>\n",
       "            <td>au</td>\n",
       "            <td>aux</td>\n",
       "        </tr>\n",
       "        <tr>\n",
       "            <td>povre</td>\n",
       "            <td>povres</td>\n",
       "        </tr>\n",
       "        <tr>\n",
       "            <td>home</td>\n",
       "            <td>hommes</td>\n",
       "        </tr>\n",
       "        <tr>\n",
       "            <td>doit</td>\n",
       "            <td>doit</td>\n",
       "        </tr>\n",
       "        <tr>\n",
       "            <td>l</td>\n",
       "            <td>on</td>\n",
       "        </tr>\n",
       "        <tr>\n",
       "            <td>’</td>\n",
       "            <td>telles</td>\n",
       "        </tr>\n",
       "        <tr>\n",
       "            <td>en</td>\n",
       "            <td>-</td>\n",
       "        </tr>\n",
       "        <tr>\n",
       "            <td>doner</td>\n",
       "            <td>-</td>\n",
       "        </tr>\n",
       "        <tr>\n",
       "            <td>tex</td>\n",
       "            <td>-</td>\n",
       "        </tr>\n",
       "        <tr>\n",
       "            <td>choses</td>\n",
       "            <td>choses</td>\n",
       "        </tr>\n",
       "        <tr>\n",
       "            <td>-</td>\n",
       "            <td>donner</td>\n",
       "        </tr>\n",
       "        <tr>\n",
       "            <td>qui</td>\n",
       "            <td>qui</td>\n",
       "        </tr>\n",
       "        <tr>\n",
       "            <td>soient</td>\n",
       "            <td>soient</td>\n",
       "        </tr>\n",
       "        <tr>\n",
       "            <td>plus</td>\n",
       "            <td>plus</td>\n",
       "        </tr>\n",
       "        <tr>\n",
       "            <td>boenes</td>\n",
       "            <td>bonnes</td>\n",
       "        </tr>\n",
       "        <tr>\n",
       "            <td>que</td>\n",
       "            <td>que</td>\n",
       "        </tr>\n",
       "        <tr>\n",
       "            <td>beles</td>\n",
       "            <td>belles</td>\n",
       "        </tr>\n",
       "        <tr>\n",
       "            <td>.</td>\n",
       "            <td>.</td>\n",
       "        </tr>\n",
       "    </tbody>\n",
       "</table>"
      ],
      "text/plain": [
       "<IPython.core.display.HTML object>"
      ]
     },
     "metadata": {},
     "output_type": "display_data"
    }
   ],
   "source": [
    "#sortie HTML\n",
    "collate(collation, output=\"html\", layout=\"vertical\",segmentation=False)"
   ]
  },
  {
   "cell_type": "code",
   "execution_count": 25,
   "id": "c9535dae",
   "metadata": {},
   "outputs": [
    {
     "data": {
      "text/html": [
       "<TABLE border=\"1\" style=\"border: 1px solid #000000; border-collapse: collapse;\" cellpadding=\"4\">\n",
       " <TR>\n",
       "  <TH>A</TH>\n",
       "  <TH>B</TH>\n",
       " </TR>\n",
       " <TR>\n",
       "  <TD bgcolor=\"FF0000\">Mais</TD>\n",
       "  <TD bgcolor=\"FF0000\">mais</TD>\n",
       " </TR>\n",
       " <TR>\n",
       "  <TD bgcolor=\"FF0000\">au</TD>\n",
       "  <TD bgcolor=\"FF0000\">aux</TD>\n",
       " </TR>\n",
       " <TR>\n",
       "  <TD bgcolor=\"FF0000\">povre</TD>\n",
       "  <TD bgcolor=\"FF0000\">povres</TD>\n",
       " </TR>\n",
       " <TR>\n",
       "  <TD bgcolor=\"FF0000\">home</TD>\n",
       "  <TD bgcolor=\"FF0000\">hommes</TD>\n",
       " </TR>\n",
       " <TR>\n",
       "  <TD bgcolor=\"00FFFF\">doit</TD>\n",
       "  <TD bgcolor=\"00FFFF\">doit</TD>\n",
       " </TR>\n",
       " <TR>\n",
       "  <TD bgcolor=\"FF0000\">l</TD>\n",
       "  <TD bgcolor=\"FF0000\">on</TD>\n",
       " </TR>\n",
       " <TR>\n",
       "  <TD bgcolor=\"FF0000\">’</TD>\n",
       "  <TD bgcolor=\"FF0000\">telles</TD>\n",
       " </TR>\n",
       " <TR>\n",
       "  <TD bgcolor=\"FF0000\">en</TD>\n",
       "  <TD bgcolor=\"FF0000\">-</TD>\n",
       " </TR>\n",
       " <TR>\n",
       "  <TD bgcolor=\"FF0000\">doner</TD>\n",
       "  <TD bgcolor=\"FF0000\">-</TD>\n",
       " </TR>\n",
       " <TR>\n",
       "  <TD bgcolor=\"FF0000\">tex</TD>\n",
       "  <TD bgcolor=\"FF0000\">-</TD>\n",
       " </TR>\n",
       " <TR>\n",
       "  <TD bgcolor=\"00FFFF\">choses</TD>\n",
       "  <TD bgcolor=\"00FFFF\">choses</TD>\n",
       " </TR>\n",
       " <TR>\n",
       "  <TD bgcolor=\"FF0000\">-</TD>\n",
       "  <TD bgcolor=\"FF0000\">donner</TD>\n",
       " </TR>\n",
       " <TR>\n",
       "  <TD bgcolor=\"00FFFF\">qui</TD>\n",
       "  <TD bgcolor=\"00FFFF\">qui</TD>\n",
       " </TR>\n",
       " <TR>\n",
       "  <TD bgcolor=\"00FFFF\">soient</TD>\n",
       "  <TD bgcolor=\"00FFFF\">soient</TD>\n",
       " </TR>\n",
       " <TR>\n",
       "  <TD bgcolor=\"00FFFF\">plus</TD>\n",
       "  <TD bgcolor=\"00FFFF\">plus</TD>\n",
       " </TR>\n",
       " <TR>\n",
       "  <TD bgcolor=\"FF0000\">boenes</TD>\n",
       "  <TD bgcolor=\"FF0000\">bonnes</TD>\n",
       " </TR>\n",
       " <TR>\n",
       "  <TD bgcolor=\"00FFFF\">que</TD>\n",
       "  <TD bgcolor=\"00FFFF\">que</TD>\n",
       " </TR>\n",
       " <TR>\n",
       "  <TD bgcolor=\"FF0000\">beles</TD>\n",
       "  <TD bgcolor=\"FF0000\">belles</TD>\n",
       " </TR>\n",
       " <TR>\n",
       "  <TD bgcolor=\"00FFFF\">.</TD>\n",
       "  <TD bgcolor=\"00FFFF\">.</TD>\n",
       " </TR>\n",
       "</TABLE>"
      ],
      "text/plain": [
       "<IPython.core.display.HTML object>"
      ]
     },
     "metadata": {},
     "output_type": "display_data"
    }
   ],
   "source": [
    "#HTML colloré\n",
    "collate(collation, output=\"html2\", segmentation=False)"
   ]
  },
  {
   "cell_type": "code",
   "execution_count": 33,
   "id": "00a731ad",
   "metadata": {},
   "outputs": [
    {
     "data": {
      "text/plain": [
       "'<root><app><rdg wit=\"#A\">Mais </rdg><rdg wit=\"#B\">mais </rdg></app><app><rdg wit=\"#A\">au </rdg><rdg wit=\"#B\">aux </rdg></app><app><rdg wit=\"#A\">povre </rdg><rdg wit=\"#B\">povres </rdg></app><app><rdg wit=\"#A\">home </rdg><rdg wit=\"#B\">hommes </rdg></app><app><rdg wit=\"#A\">doit </rdg><rdg wit=\"#B\">doit </rdg></app><app><rdg wit=\"#A\">l</rdg><rdg wit=\"#B\">on </rdg></app><app><rdg wit=\"#A\">’</rdg><rdg wit=\"#B\">telles </rdg></app><app><rdg wit=\"#A\">en </rdg></app><app><rdg wit=\"#A\">doner </rdg></app><app><rdg wit=\"#A\">tex </rdg></app><app><rdg wit=\"#A\">choses </rdg><rdg wit=\"#B\">choses </rdg></app><app><rdg wit=\"#B\">donner </rdg></app><app><rdg wit=\"#A\">qui </rdg><rdg wit=\"#B\">qui </rdg></app><app><rdg wit=\"#A\">soient </rdg><rdg wit=\"#B\">soient </rdg></app><app><rdg wit=\"#A\">plus </rdg><rdg wit=\"#B\">plus </rdg></app><app><rdg wit=\"#A\">boenes </rdg><rdg wit=\"#B\">bonnes </rdg></app><app><rdg wit=\"#A\">que </rdg><rdg wit=\"#B\">que </rdg></app><app><rdg wit=\"#A\">beles</rdg><rdg wit=\"#B\">belles</rdg></app><app><rdg wit=\"#A\">.</rdg><rdg wit=\"#B\">.</rdg></app></root>'"
      ]
     },
     "execution_count": 33,
     "metadata": {},
     "output_type": "execute_result"
    }
   ],
   "source": [
    "# sortie XML\n",
    "collate(collation,output=\"xml\",segmentation=False)"
   ]
  },
  {
   "cell_type": "code",
   "execution_count": 31,
   "id": "ba15f701",
   "metadata": {},
   "outputs": [
    {
     "data": {
      "text/plain": [
       "'<?xml version=\"1.0\" ?>\\n<cx:apparatus xmlns=\"http://www.tei-c.org/ns/1.0\" xmlns:cx=\"http://interedition.eu/collatex/ns/1.0\">\\n\\t<app>\\n\\t\\t<rdg wit=\"#A\">Mais</rdg>\\n\\t\\t<rdg wit=\"#B\">mais</rdg>\\n\\t</app>\\n\\t \\n\\t<app>\\n\\t\\t<rdg wit=\"#A\">au</rdg>\\n\\t\\t<rdg wit=\"#B\">aux</rdg>\\n\\t</app>\\n\\t \\n\\t<app>\\n\\t\\t<rdg wit=\"#A\">povre</rdg>\\n\\t\\t<rdg wit=\"#B\">povres</rdg>\\n\\t</app>\\n\\t \\n\\t<app>\\n\\t\\t<rdg wit=\"#A\">home</rdg>\\n\\t\\t<rdg wit=\"#B\">hommes</rdg>\\n\\t</app>\\n\\t \\n\\tdoit \\n\\t<app>\\n\\t\\t<rdg wit=\"#A\">l</rdg>\\n\\t</app>\\n\\t<app>\\n\\t\\t<rdg wit=\"#A\">’</rdg>\\n\\t</app>\\n\\t<app>\\n\\t\\t<rdg wit=\"#A\">en</rdg>\\n\\t</app>\\n\\t \\n\\t<app>\\n\\t\\t<rdg wit=\"#A\">doner</rdg>\\n\\t\\t<rdg wit=\"#B\">on</rdg>\\n\\t</app>\\n\\t \\n\\t<app>\\n\\t\\t<rdg wit=\"#A\">tex</rdg>\\n\\t\\t<rdg wit=\"#B\">telles</rdg>\\n\\t</app>\\n\\t \\n\\tchoses \\n\\t<app>\\n\\t\\t<rdg wit=\"#B\">donner</rdg>\\n\\t</app>\\n\\t \\n\\tqui \\n\\tsoient \\n\\tplus \\n\\t<app>\\n\\t\\t<rdg wit=\"#A\">boenes</rdg>\\n\\t\\t<rdg wit=\"#B\">bonnes</rdg>\\n\\t</app>\\n\\t \\n\\tque \\n\\t<app>\\n\\t\\t<rdg wit=\"#A\">beles</rdg>\\n\\t\\t<rdg wit=\"#B\">belles</rdg>\\n\\t</app>\\n\\t.\\n</cx:apparatus>\\n'"
      ]
     },
     "execution_count": 31,
     "metadata": {},
     "output_type": "execute_result"
    }
   ],
   "source": [
    "# sortie TEI\n",
    "collate(collation, output=\"tei\", segmentation=False, near_match=True, indent=True)"
   ]
  },
  {
   "cell_type": "code",
   "execution_count": 32,
   "id": "a189e416",
   "metadata": {},
   "outputs": [
    {
     "ename": "SyntaxError",
     "evalue": "EOL while scanning string literal (<ipython-input-32-a79963ca4c89>, line 2)",
     "output_type": "error",
     "traceback": [
      "\u001b[0;36m  File \u001b[0;32m\"<ipython-input-32-a79963ca4c89>\"\u001b[0;36m, line \u001b[0;32m2\u001b[0m\n\u001b[0;31m    collate'(collation, output=\"svg\")\u001b[0m\n\u001b[0m                                     ^\u001b[0m\n\u001b[0;31mSyntaxError\u001b[0m\u001b[0;31m:\u001b[0m EOL while scanning string literal\n"
     ]
    }
   ],
   "source": [
    "# sortie SVG\n",
    "collate'(collation, output=\"svg\")"
   ]
  }
 ],
 "metadata": {
  "kernelspec": {
   "display_name": "Python 3",
   "language": "python",
   "name": "python3"
  },
  "language_info": {
   "codemirror_mode": {
    "name": "ipython",
    "version": 3
   },
   "file_extension": ".py",
   "mimetype": "text/x-python",
   "name": "python",
   "nbconvert_exporter": "python",
   "pygments_lexer": "ipython3",
   "version": "3.6.9"
  }
 },
 "nbformat": 4,
 "nbformat_minor": 5
}
