{
 "cells": [
  {
   "cell_type": "code",
   "execution_count": 2,
   "id": "3e83fecc",
   "metadata": {},
   "outputs": [],
   "source": [
    "from collatex import *\n",
    "from fonctions import *"
   ]
  },
  {
   "cell_type": "code",
   "execution_count": 3,
   "id": "34073d76",
   "metadata": {},
   "outputs": [],
   "source": [
    "collation = Collation()"
   ]
  },
  {
   "cell_type": "code",
   "execution_count": 6,
   "id": "5fde396c",
   "metadata": {},
   "outputs": [],
   "source": [
    "#Création des témoins : on les parse pour récupérer\n",
    "A1 = etree.parse('A.xml')\n",
    "B1 = etree.parse('B.xml')"
   ]
  },
  {
   "cell_type": "code",
   "execution_count": 11,
   "id": "f61ee12f",
   "metadata": {},
   "outputs": [
    {
     "name": "stdout",
     "output_type": "stream",
     "text": [
      "Ao_001\n",
      "0\n",
      "<Element p at 0x7fb4fa3adfc8>\n",
      "<Element p at 0x7fb4fa7c7d48>\n",
      "{'witnesses': [{'id': 'A', 'tokens': [{'text': 'En', 'i': 'Ao_w_0000001', 't': 'en1', 'pos': 'PRE'}, {'text': 'la', 'i': 'Ao_w_0000002', 't': 'le', 'pos': 'DETdef'}, {'text': 'marche', 'i': 'Ao_w_0000003', 't': 'marche1', 'pos': 'NOMcom'}, {'text': 'de', 'i': 'Ao_w_0000004', 't': 'de', 'pos': 'PRE'}, {'text': 'Gaule', 'i': 'Ao_w_0000005', 't': 'Gaule', 'pos': 'NOMpro'}, {'text': 'et', 'i': 'Ao_w_0000006', 't': 'et', 'pos': 'CONcoo'}, {'text': 'de', 'i': 'Ao_w_0000007', 't': 'de', 'pos': 'PRE'}, {'text': 'la', 'i': 'Ao_w_0000008', 't': 'le', 'pos': 'DETdef'}, {'text': 'Petite', 'i': 'Ao_w_0000009', 't': 'petit', 'pos': 'ADJqua'}, {'text': 'Bretaigne', 'i': 'Ao_w_0000010', 't': 'Bretaigne', 'pos': 'NOMpro'}, {'text': 'avoit', 'i': 'Ao_w_0000011', 't': 'avoir', 'pos': 'VERcjg'}, {'text': 'deus', 'i': 'Ao_w_0000012', 't': 'deus', 'pos': 'DETcar'}, {'text': 'rois', 'i': 'Ao_w_0000013', 't': 'roi2', 'pos': 'NOMcom'}, {'text': 'encienement', 'i': 'Ao_w_0000014', 't': 'ancïenement', 'pos': 'ADVgen'}, {'text': 'qui', 'i': 'Ao_w_0000015', 't': 'qui', 'pos': 'PROrel'}, {'text': 'estoient', 'i': 'Ao_w_0000016', 't': 'estre1', 'pos': 'VERcjg'}, {'text': 'frere', 'i': 'Ao_w_0000017', 't': 'frere', 'pos': 'NOMcom'}, {'text': 'germain', 'i': 'Ao_w_0000018', 't': 'germain', 'pos': 'ADJqua'}, {'text': 'et', 'i': 'Ao_w_0000019', 't': 'et', 'pos': 'CONcoo'}, {'text': 'avoient', 'i': 'Ao_w_0000020', 't': 'avoir', 'pos': 'VERcjg'}, {'text': 'deus', 'i': 'Ao_w_0000021', 't': 'deus', 'pos': 'DETcar'}, {'text': 'serors', 'i': 'Ao_w_0000022', 't': 'seror', 'pos': 'NOMcom'}, {'text': 'germaines', 'i': 'Ao_w_0000023', 't': 'germain', 'pos': 'ADJqua'}, {'text': 'a', 'i': 'Ao_w_0000024', 't': 'a3', 'pos': 'PRE'}, {'text': 'fames', 'i': 'Ao_w_0000025', 't': 'feme', 'pos': 'NOMcom'}, {'text': 'Li', 'i': 'Ao_w_0000026', 't': 'le', 'pos': 'DETdef'}, {'text': 'uns', 'i': 'Ao_w_0000027', 't': 'un', 'pos': 'PROind'}, {'text': 'des', 'i': 'Ao_w_0000028', 't': 'dele', 'pos': 'PRE.DETdef'}, {'text': 'deus', 'i': 'Ao_w_0000029', 't': 'deus', 'pos': 'ADJcar'}, {'text': 'rois', 'i': 'Ao_w_0000030', 't': 'roi2', 'pos': 'NOMcom'}]}, {'id': 'B', 'tokens': [{'text': 'EN', 'i': 'Ez_w_0005111', 't': 'en1', 'pos': 'PRE'}, {'text': 'la', 'i': 'Ez_w_0005112', 't': 'le', 'pos': 'DETdef'}, {'text': 'marche', 'i': 'Ez_w_0005113', 't': 'marche1', 'pos': 'NOMcom'}, {'text': 'de', 'i': 'Ez_w_0005114', 't': 'de', 'pos': 'PRE'}, {'text': 'Gaule', 'i': 'Ez_w_0005115', 't': 'Gaule', 'pos': 'NOMpro'}, {'text': 'et', 'i': 'Ez_w_0005116', 't': 'et', 'pos': 'CONcoo'}, {'text': 'de', 'i': 'Ez_w_0005117', 't': 'de', 'pos': 'PRE'}, {'text': 'la', 'i': 'Ez_w_0005118', 't': 'le', 'pos': 'DETdef'}, {'text': 'petite', 'i': 'Ez_w_0005119', 't': 'petit', 'pos': 'ADJqua'}, {'text': 'bretaigne', 'i': 'Ez_w_0005120', 't': 'Bretaigne', 'pos': 'NOMpro'}, {'text': 'avoit', 'i': 'Ez_w_0005121', 't': 'avoir', 'pos': 'VERcjg'}, {'text': 'anciennement', 'i': 'Ez_w_0005122', 't': 'ancïenement', 'pos': 'ADVgen'}, {'text': 'deux', 'i': 'Ez_w_0005123', 't': 'deus', 'pos': 'DETcar'}, {'text': 'roys', 'i': 'Ez_w_0005124', 't': 'roi2', 'pos': 'NOMcom'}, {'text': 'freres', 'i': 'Ez_w_0005125', 't': 'frere', 'pos': 'NOMcom'}, {'text': 'germains', 'i': 'Ez_w_0005126', 't': 'germain', 'pos': 'ADJqua'}, {'text': 'si', 'i': 'Ez_w_0005127', 't': 'si', 'pos': 'ADVgen'}, {'text': 'avoient', 'i': 'Ez_w_0005128', 't': 'avoir', 'pos': 'VERcjg'}, {'text': 'a', 'i': 'Ez_w_0005129', 't': 'a3', 'pos': 'PRE'}, {'text': 'femmes', 'i': 'Ez_w_0005130', 't': 'feme', 'pos': 'NOMcom'}, {'text': 'deux', 'i': 'Ez_w_0005131', 't': 'deus', 'pos': 'DETcar'}, {'text': 'seurs', 'i': 'Ez_w_0005132', 't': 'seror', 'pos': 'NOMcom'}, {'text': 'germaines', 'i': 'Ez_w_0005133', 't': 'germain', 'pos': 'ADJqua'}, {'text': 'l', 'i': 'Ez_w_0005134', 't': 'le', 'pos': 'DETdef'}, {'text': 'ung', 'i': 'Ez_w_0005134b', 't': 'un', 'pos': 'PROind'}]}]}\n",
      "<collatex.core_classes.Collation object at 0x7fb4fa541400>\n"
     ]
    },
    {
     "ename": "AttributeError",
     "evalue": "'str' object has no attribute 'columns'",
     "output_type": "error",
     "traceback": [
      "\u001b[0;31m---------------------------------------------------------------------------\u001b[0m",
      "\u001b[0;31mAttributeError\u001b[0m                            Traceback (most recent call last)",
      "\u001b[0;32m<ipython-input-11-e0aa5f957fc0>\u001b[0m in \u001b[0;36m<module>\u001b[0;34m\u001b[0m\n\u001b[1;32m     39\u001b[0m         \u001b[0mcoll\u001b[0m \u001b[0;34m=\u001b[0m \u001b[0mcollate\u001b[0m\u001b[0;34m(\u001b[0m\u001b[0mcollation\u001b[0m\u001b[0;34m,\u001b[0m \u001b[0moutput\u001b[0m\u001b[0;34m=\u001b[0m\u001b[0;34m\"xml\"\u001b[0m\u001b[0;34m,\u001b[0m\u001b[0msegmentation\u001b[0m\u001b[0;34m=\u001b[0m\u001b[0;32mFalse\u001b[0m\u001b[0;34m)\u001b[0m\u001b[0;34m\u001b[0m\u001b[0;34m\u001b[0m\u001b[0m\n\u001b[1;32m     40\u001b[0m     \u001b[0;31m#appel de la fonction notre_export\u001b[0m\u001b[0;34m\u001b[0m\u001b[0;34m\u001b[0m\u001b[0;34m\u001b[0m\u001b[0m\n\u001b[0;32m---> 41\u001b[0;31m         \u001b[0mresult\u001b[0m \u001b[0;34m=\u001b[0m \u001b[0mnotre_export_xml\u001b[0m\u001b[0;34m(\u001b[0m\u001b[0mcoll\u001b[0m\u001b[0;34m)\u001b[0m\u001b[0;34m\u001b[0m\u001b[0;34m\u001b[0m\u001b[0m\n\u001b[0m\u001b[1;32m     42\u001b[0m \u001b[0;34m\u001b[0m\u001b[0m\n\u001b[1;32m     43\u001b[0m     \u001b[0;31m#création d'un objet dans lequel on stocke notre résultat, à l'intérieur d'un paragraphe qui se définit comme tel\u001b[0m\u001b[0;34m\u001b[0m\u001b[0;34m\u001b[0m\u001b[0;34m\u001b[0m\u001b[0m\n",
      "\u001b[0;32m~/Documents/presentations/interventionGeneve/TP/collation/fonctions.py\u001b[0m in \u001b[0;36mnotre_export_xml\u001b[0;34m(table)\u001b[0m\n\u001b[1;32m     53\u001b[0m \u001b[0;32mdef\u001b[0m \u001b[0mnotre_export_xml\u001b[0m\u001b[0;34m(\u001b[0m\u001b[0mtable\u001b[0m\u001b[0;34m)\u001b[0m\u001b[0;34m:\u001b[0m\u001b[0;34m\u001b[0m\u001b[0;34m\u001b[0m\u001b[0m\n\u001b[1;32m     54\u001b[0m     \u001b[0mreadings\u001b[0m \u001b[0;34m=\u001b[0m \u001b[0;34m[\u001b[0m\u001b[0;34m]\u001b[0m\u001b[0;34m\u001b[0m\u001b[0;34m\u001b[0m\u001b[0m\n\u001b[0;32m---> 55\u001b[0;31m     \u001b[0;32mfor\u001b[0m \u001b[0mcolumn\u001b[0m \u001b[0;32min\u001b[0m \u001b[0mtable\u001b[0m\u001b[0;34m.\u001b[0m\u001b[0mcolumns\u001b[0m\u001b[0;34m:\u001b[0m\u001b[0;34m\u001b[0m\u001b[0;34m\u001b[0m\u001b[0m\n\u001b[0m\u001b[1;32m     56\u001b[0m         \u001b[0mapp\u001b[0m \u001b[0;34m=\u001b[0m \u001b[0met\u001b[0m\u001b[0;34m.\u001b[0m\u001b[0mElement\u001b[0m\u001b[0;34m(\u001b[0m\u001b[0;34m'app'\u001b[0m\u001b[0;34m)\u001b[0m\u001b[0;34m\u001b[0m\u001b[0;34m\u001b[0m\u001b[0m\n\u001b[1;32m     57\u001b[0m         \u001b[0;32mfor\u001b[0m \u001b[0mkey\u001b[0m\u001b[0;34m,\u001b[0m \u001b[0mvalue\u001b[0m \u001b[0;32min\u001b[0m \u001b[0msorted\u001b[0m\u001b[0;34m(\u001b[0m\u001b[0mcolumn\u001b[0m\u001b[0;34m.\u001b[0m\u001b[0mtokens_per_witness\u001b[0m\u001b[0;34m.\u001b[0m\u001b[0mitems\u001b[0m\u001b[0;34m(\u001b[0m\u001b[0;34m)\u001b[0m\u001b[0;34m)\u001b[0m\u001b[0;34m:\u001b[0m\u001b[0;34m\u001b[0m\u001b[0;34m\u001b[0m\u001b[0m\n",
      "\u001b[0;31mAttributeError\u001b[0m: 'str' object has no attribute 'columns'"
     ]
    }
   ],
   "source": [
    "v = []\n",
    "vDiv = []\n",
    "propreId = 1\n",
    "\n",
    "for div in A1.xpath(\"/text/div\"):\n",
    "    iDiv = div.get('{http://www.w3.org/XML/1998/namespace}id')\n",
    "    print(iDiv)\n",
    "    for divEz in B1.xpath(\"/text/div[@corresp='\"+iDiv+\"']\"):\n",
    "        iDivEz = divEz.get('{http://www.w3.org/XML/1998/namespace}id')\n",
    "    for par in A1.xpath(\"/text/div[@xml:id='\"+iDiv+\"']/p\"):\n",
    "        #on récupère le numéro de paragraphe\n",
    "        i = par.get('n')\n",
    "        # on vérifie que tout se passe bien\n",
    "        print(i)\n",
    "        #A = le paragraphe en question\n",
    "        A = par\n",
    "        print(A)\n",
    "        #on récupère aussi le paragraphe qui correspond en Ez (B)  \n",
    "        for p in B1.xpath(\"/text/div[@xml:id='\"+iDivEz+\"']/p[@n='\"+i+\"']\"):\n",
    "        # B = le paragraphe qui porte le même numéro que en A\n",
    "            B = p\n",
    "            print(B)\n",
    "\n",
    "    #reprise du code\n",
    "    #définition des témoins\n",
    "        json_input = {}\n",
    "        json_input['witnesses'] = []\n",
    "        json_input['witnesses'].append(XMLtoJson('A',A))\n",
    "        json_input['witnesses'].append(XMLtoJson('B',B))\n",
    "        print(json_input)\n",
    "        \n",
    "        #création de l'objet collation\n",
    "        collation = json_input\n",
    "        json_collation = Collation()\n",
    "        for witness in collation[\"witnesses\"]:\n",
    "            json_collation.add_witness(witness)\n",
    "        collation = json_collation\n",
    "        print(collation)\n",
    "        coll = collate(collation, output=\"xml\",segmentation=False)\n",
    "    #appel de la fonction notre_export\n",
    "     #   result = notre_export_xml(coll)\n",
    "\n",
    "    #création d'un objet dans lequel on stocke notre résultat, à l'intérieur d'un paragraphe qui se définit comme tel\n",
    "        #tei = collate(collation, output=\"tei\", segmentation=False, near_match=True, indent=True)\n",
    "        doc = '<p n=\"' + i +'\">' + coll + '</p>'\n",
    "    #ajout pour réunir les div    \n",
    "    valDiv = '<div xml:id=\"divColl' + str(propreId) +'\" corresp=\"' + iDiv +'_'+ iDivEz +'\">'+''.join(v) +  '</div>'\n",
    "    if not os.path.isdir(\"collParDiv\"):\n",
    "        os.makedirs(\"collParDiv\")\n",
    "    #with open(\"./collParDiv/collationParDiv\"+str(propreId)+\".xml\", \"w\") as text_fileDiv:\n",
    "    #    text_fileDiv.write(valDiv)\n",
    "    vDiv.append(valDiv)\n",
    "    propreId+=1\n",
    "    v = []\n",
    "\n",
    "#on crée un objet dans lequel on place notre liste, à l'intérieur d'une balise racine <text>\n",
    "val = \"<text>\" + ''.join(vDiv) + \"</text>\"\n",
    "\n",
    "#on écrit le résultat (une simple chaîne de caractères) dans notre document XML\n",
    "with open(\"resultat_collation.xml\", \"w\") as text_file:\n",
    "    text_file.write(val)\n",
    "        "
   ]
  }
 ],
 "metadata": {
  "kernelspec": {
   "display_name": "Python 3",
   "language": "python",
   "name": "python3"
  },
  "language_info": {
   "codemirror_mode": {
    "name": "ipython",
    "version": 3
   },
   "file_extension": ".py",
   "mimetype": "text/x-python",
   "name": "python",
   "nbconvert_exporter": "python",
   "pygments_lexer": "ipython3",
   "version": "3.6.9"
  }
 },
 "nbformat": 4,
 "nbformat_minor": 5
}
