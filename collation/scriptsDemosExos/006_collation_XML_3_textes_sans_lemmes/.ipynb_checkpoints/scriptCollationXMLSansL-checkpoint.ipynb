{
 "cells": [
  {
   "cell_type": "code",
   "execution_count": 1,
   "id": "3d63e31e",
   "metadata": {},
   "outputs": [],
   "source": [
    "#import des librairies\n",
    "from collatex import *\n",
    "from lxml import etree\n",
    "from xml.etree import ElementTree as et\n",
    "import os\n",
    "import json"
   ]
  },
  {
   "cell_type": "code",
   "execution_count": 2,
   "id": "2acc6a87",
   "metadata": {},
   "outputs": [],
   "source": [
    "#on parse les documents\n",
    "A1 = etree.parse('textes/AsansLemmes.xml')\n",
    "B1 = etree.parse('textes/BsansLemmes.xml')\n",
    "C1 = etree.parse('textes/CsansLemmes.xml')"
   ]
  },
  {
   "cell_type": "code",
   "execution_count": 3,
   "id": "e9918c12",
   "metadata": {},
   "outputs": [],
   "source": [
    "#défintion de la fonction qui permet la transformation vers du json, puisque collatex doit prendre du json\n",
    "#on utilise une feuille de transformation\n",
    "def XMLtoJson(id,xmlInput):\n",
    "    #défition de witness comme un dictionnaire\n",
    "    witness = {}\n",
    "    #on donne la première valeur de l'id\n",
    "    witness['id'] = id\n",
    "    #on transforme le document XML : d'abord on tokénise, puis on transforme en json\n",
    "    tokenization = etree.XML(\"\"\"\n",
    "<xsl:stylesheet version=\"1.0\" xmlns:xsl=\"http://www.w3.org/1999/XSL/Transform\">\n",
    "    <xsl:output method=\"xml\" indent=\"yes\" encoding=\"UTF-8\" omit-xml-declaration=\"yes\"/>\n",
    "   \n",
    "    <xsl:template match=\"/*\">\n",
    "        <xsl:copy>\n",
    "            <xsl:apply-templates select=\"@*\"/>\n",
    "            <xsl:apply-templates/>\n",
    "        </xsl:copy>\n",
    "    </xsl:template>\n",
    "    \n",
    "    <xsl:template match=\"text()\">\n",
    "        <xsl:call-template name=\"tokenize\">\n",
    "            <xsl:with-param name=\"param1\" select=\".\" />\n",
    "        </xsl:call-template>\n",
    "    </xsl:template>\n",
    "    \n",
    "    <xsl:template name=\"tokenize\">\n",
    "        <xsl:param name=\"param1\" />\n",
    "        <xsl:variable name=\"Pretoken\" select=\"normalize-space(\n",
    "            substring-before(concat( $param1, ','), ','))\" />\n",
    "        <xsl:variable name=\"Pretoken2\" select=\"normalize-space(\n",
    "            substring-before(concat( $Pretoken, '.'), '.'))\" />\n",
    "        <xsl:variable name=\"token\" select=\"normalize-space(\n",
    "            substring-before(concat($Pretoken2, ' '), ' ')\n",
    "            )\" />\n",
    "\n",
    "        <xsl:if test=\"$token\">\n",
    "        <xsl:choose>\n",
    "            <xsl:when test=\"not(contains($token,  '’'))\">\n",
    "                <w>\n",
    "                    <xsl:value-of select=\"$token\" />\n",
    "                </w>\n",
    "                \n",
    "            </xsl:when>\n",
    "            <xsl:when test=\"contains($token,  '’')\">\n",
    "                <w>\n",
    "                    <xsl:value-of select=\"substring-before($token,'’')\"/>\n",
    "                </w>\n",
    "                <w>\n",
    "                    <xsl:value-of select=\"substring-after($token,'’')\"/>\n",
    "                </w>\n",
    "            </xsl:when>\n",
    "        </xsl:choose>\n",
    "            <xsl:call-template name=\"tokenize\">\n",
    "                <xsl:with-param name=\"param1\" select=\"substring-after($param1, ' ')\" />\n",
    "            </xsl:call-template>\n",
    "        </xsl:if>\n",
    "         \n",
    "    </xsl:template>     \n",
    "    \n",
    "</xsl:stylesheet>\n",
    "    \n",
    "\"\"\")\n",
    "    transformTok = etree.XSLT(tokenization)\n",
    "                           \n",
    "    XSLtoJSON = etree.XML('''\n",
    "<xsl:stylesheet xmlns:xsl=\"http://www.w3.org/1999/XSL/Transform\"\n",
    "    xmlns:xs=\"http://www.w3.org/2001/XMLSchema\"\n",
    "    exclude-result-prefixes=\"xs\"\n",
    "    version=\"1.0\">\n",
    "\n",
    "    <xsl:output method=\"text\"/>\n",
    "\n",
    "    <xsl:template match=\"/\">\n",
    "        <xsl:apply-templates/>\n",
    "    </xsl:template>\n",
    "\n",
    "    <xsl:template match=\"w\">\n",
    "        <xsl:text>{\"t\": \"</xsl:text>\n",
    "        <xsl:apply-templates/>\n",
    "        <xsl:text>\"}</xsl:text>\n",
    "        <xsl:if test=\"following::w\">\n",
    "            <xsl:text>, </xsl:text>\n",
    "        </xsl:if>\n",
    "    </xsl:template>\n",
    "</xsl:stylesheet>\n",
    "    ''')\n",
    "    #on applique l'XSL\n",
    "    monXSL = etree.XSLT(XSLtoJSON)\n",
    "    #on charge le résultat de l'XSL dans la valeur de l'entrée du dicitonnaire \"tokens\"\n",
    "    witness['tokens'] = json.loads( '[' +str(monXSL(transformTok(xmlInput))) +']')\n",
    "    return witness"
   ]
  },
  {
   "cell_type": "code",
   "execution_count": 4,
   "id": "c01917b6",
   "metadata": {},
   "outputs": [
    {
     "name": "stdout",
     "output_type": "stream",
     "text": [
      "{'witnesses': [{'id': 'A', 'tokens': [{'t': 'Mais'}, {'t': 'au'}, {'t': 'povre'}, {'t': 'home'}, {'t': 'doit'}, {'t': 'l'}, {'t': 'en'}, {'t': 'doner'}, {'t': 'tex'}, {'t': 'choses'}, {'t': 'qui'}, {'t': 'soient'}, {'t': 'plus'}, {'t': 'boenes'}, {'t': 'que'}, {'t': 'beles'}, {'t': 'et'}, {'t': 'plus'}, {'t': 'porfitables'}, {'t': 'que'}, {'t': 'plaisanz'}, {'t': 'car'}, {'t': 'povretez'}, {'t': 'n'}, {'t': 'a'}, {'t': 'mestier'}, {'t': 'que'}, {'t': 'd'}, {'t': 'amendement'}, {'t': 'et'}, {'t': 'richece'}, {'t': 'n'}, {'t': 'a'}, {'t': 'mestier'}, {'t': 'que'}, {'t': 'de'}, {'t': 'delit'}, {'t': 'Ne'}, {'t': 'tex'}, {'t': 'choses'}, {'t': 'nefont'}, {'t': 'mie'}, {'t': 'a'}, {'t': 'doner'}, {'t': 'a'}, {'t': 'toz'}, {'t': 'car'}, {'t': 'en'}, {'t': 'ne'}, {'t': 'doit'}, {'t': 'doner'}, {'t': 'a'}, {'t': 'home'}, {'t': 'chose'}, {'t': 'dom'}, {'t': 'il'}, {'t': 'ait'}, {'t': 'assez'}, {'t': 'Ensint'}, {'t': 'e'}, {'t': 'covanra'}, {'t': 'doner'}, {'t': 'se'}, {'t': 'tu'}, {'t': 'viaus'}, {'t': 'doner'}, {'t': 'selonc'}, {'t': 'droiture'}, {'t': 'Et'}, {'t': 'se'}, {'t': 'tu'}, {'t': 'lo'}, {'t': 'fais'}, {'t': 'einsin'}, {'t': 'autresin'}, {'t': 'covanra'}, {'t': 'que'}, {'t': 'la'}, {'t': 'reine'}, {'t': 'lo'}, {'t': 'face'}, {'t': 'as'}, {'t': 'dames'}, {'t': 'et'}, {'t': 'as'}, {'t': 'damoiseles'}, {'t': 'de'}, {'t': 'chascun'}, {'t': 'païs'}, {'t': 'ou'}, {'t': 'ele'}, {'t': 'vanra'}, {'t': 'que'}, {'t': 'tu'}, {'t': 'et'}, {'t': 'ele'}, {'t': 'donez'}, {'t': 'si'}, {'t': 'com'}, {'t': 'li'}, {'t': 'Sages'}, {'t': 'lo'}, {'t': 'comande'}, {'t': 'Li'}, {'t': 'Sages'}, {'t': 'dit'}, {'t': 'que'}, {'t': 'autresi'}, {'t': 'liez'}, {'t': 'doit'}, {'t': 'estre'}, {'t': 'li'}, {'t': 'donneres'}, {'t': 'an'}, {'t': 'son'}, {'t': 'don'}, {'t': 'con'}, {'t': 'est'}, {'t': 'cil'}, {'t': 'cui'}, {'t': 'an'}, {'t': 'lo'}, {'t': 'done'}, {'t': 'L'}, {'t': 'an'}, {'t': 'ne'}, {'t': 'doit'}, {'t': 'mie'}, {'t': 'doner'}, {'t': 'a'}, {'t': 'laide'}, {'t': 'chierre'}, {'t': 'mais'}, {'t': 'tozjorz'}, {'t': 'a'}, {'t': 'lié'}, {'t': 'sanblant'}, {'t': 'car'}, {'t': 'dons'}, {'t': 'qui'}, {'t': 'est'}, {'t': 'lieement'}, {'t': 'donez'}, {'t': 'a'}, {'t': 'deus'}, {'t': 'paires'}, {'t': 'de'}, {'t': 'merites'}, {'t': 'et'}, {'t': 'cil'}, {'t': 'qui'}, {'t': 'est'}, {'t': 'donez'}, {'t': 'an'}, {'t': 'rechinant'}, {'t': 'n'}, {'t': 'a'}, {'t': 'nul'}, {'t': 'guerredon'}]}, {'id': 'B', 'tokens': [{'t': 'Mais'}, {'t': 'aux'}, {'t': 'povres'}, {'t': 'hommes'}, {'t': 'doit'}, {'t': 'on'}, {'t': 'telles'}, {'t': 'choses'}, {'t': 'donner'}, {'t': 'qui'}, {'t': 'soient'}, {'t': 'plus'}, {'t': 'bonnes'}, {'t': 'que'}, {'t': 'belles'}, {'t': 'car'}, {'t': 'povreté'}, {'t': 'ne'}, {'t': 'a'}, {'t': 'mestier'}, {'t': 'que'}, {'t': 'de'}, {'t': 'amendement'}, {'t': 'ne'}, {'t': 'richesse'}, {'t': 'fors'}, {'t': 'de'}, {'t': 'delict'}, {'t': 'ne'}, {'t': 'toutes'}, {'t': 'choses'}, {'t': 'ne'}, {'t': 'sont'}, {'t': 'mie'}, {'t': 'a'}, {'t': 'donner'}, {'t': 'a'}, {'t': 'tous'}, {'t': 'car'}, {'t': 'l'}, {'t': 'en'}, {'t': 'ne'}, {'t': 'sçait'}, {'t': 'mie'}, {'t': 'a'}, {'t': 'homme'}, {'t': 'donner'}, {'t': 'chose'}, {'t': 'dont'}, {'t': 'il'}, {'t': 'ait'}, {'t': 'assez'}, {'t': 'Ainsi'}, {'t': 'te'}, {'t': 'convendra'}, {'t': 'donner'}, {'t': 'selon'}, {'t': 'droiture'}, {'t': 'Et'}, {'t': 'se'}, {'t': 'tu'}, {'t': 'le'}, {'t': 'fais'}, {'t': 'ainsi'}, {'t': 'aussi'}, {'t': 'le'}, {'t': 'convendra'}, {'t': 'faire'}, {'t': 'la'}, {'t': 'royne'}, {'t': 'aux'}, {'t': 'dames'}, {'t': 'et'}, {'t': 'aux'}, {'t': 'damoiselles'}, {'t': 'du'}, {'t': 'païs'}, {'t': 'ou'}, {'t': 'elle'}, {'t': 'vendra'}, {'t': 'Si'}, {'t': 'convendra'}, {'t': 'que'}, {'t': 'vous'}, {'t': 'donnez'}, {'t': 'comme'}, {'t': 'le'}, {'t': 'Sage'}, {'t': 'commande'}, {'t': 'Et'}, {'t': 'dist'}, {'t': 'que'}, {'t': 'aussi'}, {'t': 'doit'}, {'t': 'estre'}, {'t': 'joieux'}, {'t': 'le'}, {'t': 'donneur'}, {'t': 'en'}, {'t': 'son'}, {'t': 'don'}, {'t': 'comme'}, {'t': 'est'}, {'t': 'celui'}, {'t': 'a'}, {'t': 'qui'}, {'t': 'il'}, {'t': 'le'}, {'t': 'donne'}, {'t': 'L'}, {'t': 'en'}, {'t': 'ne'}, {'t': 'doit'}, {'t': 'mie'}, {'t': 'donner'}, {'t': 'a'}, {'t': 'laide'}, {'t': 'chiere'}, {'t': 'mais'}, {'t': 'tousjours'}, {'t': 'a'}, {'t': 'beau'}, {'t': 'semblant'}, {'t': 'car'}, {'t': 'don'}, {'t': 'lieement'}, {'t': 'donné'}, {'t': 'a'}, {'t': 'deux'}, {'t': 'manieres'}, {'t': 'de'}, {'t': 'merites'}, {'t': 'Et'}, {'t': 'celui'}, {'t': 'qui'}, {'t': 'est'}, {'t': 'donné'}, {'t': 'en'}, {'t': 'richignant'}, {'t': 'ne'}, {'t': 'doit'}, {'t': 'nul'}, {'t': 'guerdon'}]}, {'id': 'C', 'tokens': [{'t': 'Mais'}, {'t': 'au'}, {'t': 'povre'}, {'t': 'home'}, {'t': 'doit'}, {'t': 'l'}, {'t': 'en'}, {'t': 'douner'}, {'t': 'tex'}, {'t': 'choses'}, {'t': 'qui'}, {'t': 'soient'}, {'t': 'plus'}, {'t': 'boines'}, {'t': 'que'}, {'t': 'beles'}, {'t': 'et'}, {'t': 'plus'}, {'t': 'profitables'}, {'t': 'que'}, {'t': 'plaisans'}, {'t': 'car'}, {'t': 'povertés'}, {'t': 'n'}, {'t': 'a'}, {'t': 'mestier'}, {'t': 'fors'}, {'t': 'd'}, {'t': 'amendement'}, {'t': 'et'}, {'t': 'riquece'}, {'t': 'n'}, {'t': 'a'}, {'t': 'mestier'}, {'t': 'fors'}, {'t': 'de'}, {'t': 'delit'}, {'t': 'ne'}, {'t': 'tex'}, {'t': 'choses'}, {'t': 'nefont'}, {'t': 'mie'}, {'t': 'a'}, {'t': 'douner'}, {'t': 'a'}, {'t': 'tous'}, {'t': 'car'}, {'t': 'on'}, {'t': 'ne'}, {'t': 'doit'}, {'t': 'doner'}, {'t': 'a'}, {'t': 'home'}, {'t': 'chose'}, {'t': 'dont'}, {'t': 'il'}, {'t': 'a'}, {'t': 'assés'}, {'t': 'Ensi'}, {'t': 'te'}, {'t': 'convenra'}, {'t': 'doner'}, {'t': 'se'}, {'t': 'tu'}, {'t': 'vels'}, {'t': 'doner'}, {'t': 'selonc'}, {'t': 'droiture;'}, {'t': 'et'}, {'t': 'se'}, {'t': 'tu'}, {'t': 'le'}, {'t': 'fais'}, {'t': 'ensi'}, {'t': 'autresi'}, {'t': 'covenra'}, {'t': 'que'}, {'t': 'la'}, {'t': 'roine'}, {'t': 'le'}, {'t': 'face'}, {'t': 'as'}, {'t': 'dames'}, {'t': 'et'}, {'t': 'as'}, {'t': 'damoiseles'}, {'t': 'del'}, {'t': 'païs'}, {'t': 'ou'}, {'t': 'ele'}, {'t': 'venra'}, {'t': 'et'}, {'t': 'que'}, {'t': 'tuet'}, {'t': 'ele'}, {'t': 'doigniés'}, {'t': 'si'}, {'t': 'com'}, {'t': 'li'}, {'t': 'sages'}, {'t': 'le'}, {'t': 'commande'}, {'t': 'Li'}, {'t': 'sages'}, {'t': 'dist'}, {'t': 'que'}, {'t': 'autresi'}, {'t': 'liés'}, {'t': 'doit'}, {'t': 'estre'}, {'t': 'li'}, {'t': 'doneres'}, {'t': 'en'}, {'t': 'son'}, {'t': 'don'}, {'t': 'com'}, {'t': 'est'}, {'t': 'chil'}, {'t': 'qui'}, {'t': 'onle'}, {'t': 'doune'}, {'t': ':'}, {'t': 'l'}, {'t': 'en'}, {'t': 'ne'}, {'t': 'doit'}, {'t': 'mie'}, {'t': 'doner'}, {'t': 'a'}, {'t': 'laide'}, {'t': 'chiere'}, {'t': 'mais'}, {'t': 'tos'}, {'t': 'jors'}, {'t': 'doner'}, {'t': 'a'}, {'t': 'lié'}, {'t': 'samblant'}, {'t': 'car'}, {'t': 'en'}, {'t': 'liement'}, {'t': 'doner'}, {'t': 'a'}]}]}\n"
     ]
    }
   ],
   "source": [
    "#le dictionnaire niveau général\n",
    "json_input = {}\n",
    "#la première entrée qui contient les witnesses\n",
    "json_input['witnesses'] = []\n",
    "#application de la fonction de transformation sur A puis sur B\n",
    "json_input['witnesses'].append(XMLtoJson('A',A1))\n",
    "json_input['witnesses'].append(XMLtoJson('B',B1))\n",
    "json_input['witnesses'].append(XMLtoJson('C',C1))\n",
    "print(json_input)\n",
    "#on a bien à  le json créé !      "
   ]
  },
  {
   "cell_type": "code",
   "execution_count": 11,
   "id": "2f611050",
   "metadata": {},
   "outputs": [
    {
     "data": {
      "text/plain": [
       "<collatex.core_classes.AlignmentTable at 0x7fd174ea58d0>"
      ]
     },
     "execution_count": 11,
     "metadata": {},
     "output_type": "execute_result"
    }
   ],
   "source": [
    "#collation\n",
    "coll = collate(json_input, output=\"table\",segmentation=False)\n",
    "coll"
   ]
  },
  {
   "cell_type": "code",
   "execution_count": 12,
   "id": "bcdd4a2d",
   "metadata": {},
   "outputs": [],
   "source": [
    "#définition de la fonction notre export\n",
    "def notre_export_xml(table):\n",
    "    readings = []\n",
    "    for column in table.columns:\n",
    "        #création élément app\n",
    "        app = et.Element('app')\n",
    "        for key, value in sorted(column.tokens_per_witness.items()):\n",
    "            #création d'élément rdg\n",
    "            child = et.Element('rdg')\n",
    "            child.attrib['wit'] = \"#\" + key\n",
    "            child.text = \"\".join(str(item.token_data[\"t\"]) for item in value)\n",
    "            app.append(child)\n",
    "        result = et.tostring(app, encoding=\"unicode\")\n",
    "        readings.append(result)\n",
    "    return \"\".join(readings)"
   ]
  },
  {
   "cell_type": "code",
   "execution_count": 13,
   "id": "a85a5c42",
   "metadata": {},
   "outputs": [
    {
     "ename": "NameError",
     "evalue": "name 'table' is not defined",
     "output_type": "error",
     "traceback": [
      "\u001b[0;31m---------------------------------------------------------------------------\u001b[0m",
      "\u001b[0;31mNameError\u001b[0m                                 Traceback (most recent call last)",
      "\u001b[0;32m<ipython-input-13-5bc40fefe9a0>\u001b[0m in \u001b[0;36m<module>\u001b[0;34m\u001b[0m\n\u001b[0;32m----> 1\u001b[0;31m \u001b[0mcollResult\u001b[0m \u001b[0;34m=\u001b[0m \u001b[0mnotre_export_xml\u001b[0m\u001b[0;34m(\u001b[0m\u001b[0mcoll\u001b[0m\u001b[0;34m)\u001b[0m\u001b[0;34m\u001b[0m\u001b[0;34m\u001b[0m\u001b[0m\n\u001b[0m",
      "\u001b[0;32m<ipython-input-12-da6974e7f3df>\u001b[0m in \u001b[0;36mnotre_export_xml\u001b[0;34m(collation)\u001b[0m\n\u001b[1;32m      2\u001b[0m \u001b[0;32mdef\u001b[0m \u001b[0mnotre_export_xml\u001b[0m\u001b[0;34m(\u001b[0m\u001b[0mcollation\u001b[0m\u001b[0;34m)\u001b[0m\u001b[0;34m:\u001b[0m\u001b[0;34m\u001b[0m\u001b[0;34m\u001b[0m\u001b[0m\n\u001b[1;32m      3\u001b[0m     \u001b[0mreadings\u001b[0m \u001b[0;34m=\u001b[0m \u001b[0;34m[\u001b[0m\u001b[0;34m]\u001b[0m\u001b[0;34m\u001b[0m\u001b[0;34m\u001b[0m\u001b[0m\n\u001b[0;32m----> 4\u001b[0;31m     \u001b[0;32mfor\u001b[0m \u001b[0mcolumn\u001b[0m \u001b[0;32min\u001b[0m \u001b[0mtable\u001b[0m\u001b[0;34m.\u001b[0m\u001b[0mcolumns\u001b[0m\u001b[0;34m:\u001b[0m\u001b[0;34m\u001b[0m\u001b[0;34m\u001b[0m\u001b[0m\n\u001b[0m\u001b[1;32m      5\u001b[0m         \u001b[0;31m#création élément app\u001b[0m\u001b[0;34m\u001b[0m\u001b[0;34m\u001b[0m\u001b[0;34m\u001b[0m\u001b[0m\n\u001b[1;32m      6\u001b[0m         \u001b[0mapp\u001b[0m \u001b[0;34m=\u001b[0m \u001b[0met\u001b[0m\u001b[0;34m.\u001b[0m\u001b[0mElement\u001b[0m\u001b[0;34m(\u001b[0m\u001b[0;34m'app'\u001b[0m\u001b[0;34m)\u001b[0m\u001b[0;34m\u001b[0m\u001b[0;34m\u001b[0m\u001b[0m\n",
      "\u001b[0;31mNameError\u001b[0m: name 'table' is not defined"
     ]
    }
   ],
   "source": [
    "collResult = notre_export_xml(coll)"
   ]
  },
  {
   "cell_type": "code",
   "execution_count": null,
   "id": "7adface5",
   "metadata": {},
   "outputs": [],
   "source": [
    "docCollResult = \"<text>\" + ''.join(collResult) + \"</text>\""
   ]
  },
  {
   "cell_type": "code",
   "execution_count": null,
   "id": "c2cdb72c",
   "metadata": {},
   "outputs": [],
   "source": [
    "docCollResult"
   ]
  },
  {
   "cell_type": "code",
   "execution_count": null,
   "id": "1712909a",
   "metadata": {},
   "outputs": [],
   "source": [
    "#on écrit le résultat (une simple chaîne de caractères) dans notre document XML\n",
    "with open(\"resultat_collation_depuisXML3SansL.xml\", \"w\") as text_file:\n",
    "    text_file.write(docCollResult)   "
   ]
  }
 ],
 "metadata": {
  "kernelspec": {
   "display_name": "Python 3",
   "language": "python",
   "name": "python3"
  },
  "language_info": {
   "codemirror_mode": {
    "name": "ipython",
    "version": 3
   },
   "file_extension": ".py",
   "mimetype": "text/x-python",
   "name": "python",
   "nbconvert_exporter": "python",
   "pygments_lexer": "ipython3",
   "version": "3.6.9"
  }
 },
 "nbformat": 4,
 "nbformat_minor": 5
}
