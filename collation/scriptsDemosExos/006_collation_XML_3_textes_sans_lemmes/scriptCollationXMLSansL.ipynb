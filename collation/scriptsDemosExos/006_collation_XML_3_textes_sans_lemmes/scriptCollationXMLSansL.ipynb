{
 "cells": [
  {
   "cell_type": "code",
   "execution_count": 1,
   "id": "3d63e31e",
   "metadata": {},
   "outputs": [],
   "source": [
    "#import des librairies\n",
    "from collatex import *\n",
    "from lxml import etree\n",
    "from xml.etree import ElementTree as et\n",
    "import os\n",
    "import json"
   ]
  },
  {
   "cell_type": "code",
   "execution_count": 2,
   "id": "2acc6a87",
   "metadata": {},
   "outputs": [],
   "source": [
    "#on parse les documents\n",
    "A1 = etree.parse('textes/AsansLemmes.xml')\n",
    "B1 = etree.parse('textes/BsansLemmes.xml')\n",
    "C1 = etree.parse('textes/CsansLemmes.xml')"
   ]
  },
  {
   "cell_type": "code",
   "execution_count": 3,
   "id": "e9918c12",
   "metadata": {},
   "outputs": [],
   "source": [
    "#défintion de la fonction qui permet la transformation vers du json, puisque collatex doit prendre du json\n",
    "#on utilise une feuille de transformation\n",
    "def XMLtoJson(id,xmlInput):\n",
    "    #défition de witness comme un dictionnaire\n",
    "    witness = {}\n",
    "    #on donne la première valeur de l'id\n",
    "    witness['id'] = id\n",
    "    #on transforme le document XML : d'abord on tokénise, puis on transforme en json\n",
    "    tokenization = etree.XML(\"\"\"\n",
    "<xsl:stylesheet version=\"1.0\" xmlns:xsl=\"http://www.w3.org/1999/XSL/Transform\">\n",
    "    <xsl:output method=\"xml\" indent=\"yes\" encoding=\"UTF-8\" omit-xml-declaration=\"yes\"/>\n",
    "   \n",
    "    <xsl:template match=\"/*\">\n",
    "        <xsl:copy>\n",
    "            <xsl:apply-templates select=\"@*\"/>\n",
    "            <xsl:apply-templates/>\n",
    "        </xsl:copy>\n",
    "    </xsl:template>\n",
    "    \n",
    "    <xsl:template match=\"text()\">\n",
    "        <xsl:call-template name=\"tokenize\">\n",
    "            <xsl:with-param name=\"param1\" select=\".\" />\n",
    "        </xsl:call-template>\n",
    "    </xsl:template>\n",
    "    \n",
    "    <xsl:template name=\"tokenize\">\n",
    "        <xsl:param name=\"param1\" />\n",
    "        <xsl:variable name=\"Pretoken\" select=\"normalize-space(\n",
    "            substring-before(concat( $param1, ','), ','))\" />\n",
    "        <xsl:variable name=\"Pretoken2\" select=\"normalize-space(\n",
    "            substring-before(concat( $Pretoken, '.'), '.'))\" />\n",
    "        <xsl:variable name=\"token\" select=\"normalize-space(\n",
    "            substring-before(concat($Pretoken2, ' '), ' ')\n",
    "            )\" />\n",
    "\n",
    "        <xsl:if test=\"$token\">\n",
    "        <xsl:choose>\n",
    "            <xsl:when test=\"not(contains($token,  '’'))\">\n",
    "                <w>\n",
    "                    <xsl:value-of select=\"$token\" />\n",
    "                </w>\n",
    "                \n",
    "            </xsl:when>\n",
    "            <xsl:when test=\"contains($token,  '’')\">\n",
    "                <w>\n",
    "                    <xsl:value-of select=\"substring-before($token,'’')\"/>\n",
    "                </w>\n",
    "                <w>\n",
    "                    <xsl:value-of select=\"substring-after($token,'’')\"/>\n",
    "                </w>\n",
    "            </xsl:when>\n",
    "        </xsl:choose>\n",
    "            <xsl:call-template name=\"tokenize\">\n",
    "                <xsl:with-param name=\"param1\" select=\"substring-after($param1, ' ')\" />\n",
    "            </xsl:call-template>\n",
    "        </xsl:if>\n",
    "         \n",
    "    </xsl:template>     \n",
    "    \n",
    "</xsl:stylesheet>\n",
    "    \n",
    "\"\"\")\n",
    "    transformTok = etree.XSLT(tokenization)\n",
    "                           \n",
    "    XSLtoJSON = etree.XML('''\n",
    "<xsl:stylesheet xmlns:xsl=\"http://www.w3.org/1999/XSL/Transform\"\n",
    "    xmlns:xs=\"http://www.w3.org/2001/XMLSchema\"\n",
    "    exclude-result-prefixes=\"xs\"\n",
    "    version=\"1.0\">\n",
    "\n",
    "    <xsl:output method=\"text\"/>\n",
    "\n",
    "    <xsl:template match=\"/\">\n",
    "        <xsl:apply-templates/>\n",
    "    </xsl:template>\n",
    "\n",
    "    <xsl:template match=\"w\">\n",
    "        <xsl:text>{\"t\": \"</xsl:text>\n",
    "        <xsl:apply-templates/>\n",
    "        <xsl:text>\"}</xsl:text>\n",
    "        <xsl:if test=\"following::w\">\n",
    "            <xsl:text>, </xsl:text>\n",
    "        </xsl:if>\n",
    "    </xsl:template>\n",
    "</xsl:stylesheet>\n",
    "    ''')\n",
    "    #on applique l'XSL\n",
    "    monXSL = etree.XSLT(XSLtoJSON)\n",
    "    #on charge le résultat de l'XSL dans la valeur de l'entrée du dicitonnaire \"tokens\"\n",
    "    witness['tokens'] = json.loads( '[' +str(monXSL(transformTok(xmlInput))) +']')\n",
    "    return witness"
   ]
  },
  {
   "cell_type": "code",
   "execution_count": 4,
   "id": "c01917b6",
   "metadata": {},
   "outputs": [
    {
     "name": "stdout",
     "output_type": "stream",
     "text": [
      "{'witnesses': [{'id': 'A', 'tokens': [{'t': 'Mais'}, {'t': 'au'}, {'t': 'povre'}, {'t': 'home'}, {'t': 'doit'}, {'t': 'l'}, {'t': 'en'}, {'t': 'doner'}, {'t': 'tex'}, {'t': 'choses'}, {'t': 'qui'}, {'t': 'soient'}, {'t': 'plus'}, {'t': 'boenes'}, {'t': 'que'}, {'t': 'beles'}, {'t': 'et'}, {'t': 'plus'}, {'t': 'porfitables'}, {'t': 'que'}, {'t': 'plaisanz'}, {'t': 'car'}, {'t': 'povretez'}, {'t': 'n'}, {'t': 'a'}, {'t': 'mestier'}, {'t': 'que'}, {'t': 'd'}, {'t': 'amendement'}, {'t': 'et'}, {'t': 'richece'}, {'t': 'n'}, {'t': 'a'}, {'t': 'mestier'}, {'t': 'que'}, {'t': 'de'}, {'t': 'delit'}, {'t': 'Ne'}, {'t': 'tex'}, {'t': 'choses'}, {'t': 'nefont'}, {'t': 'mie'}, {'t': 'a'}, {'t': 'doner'}, {'t': 'a'}, {'t': 'toz'}, {'t': 'car'}, {'t': 'en'}, {'t': 'ne'}, {'t': 'doit'}, {'t': 'doner'}, {'t': 'a'}, {'t': 'home'}, {'t': 'chose'}, {'t': 'dom'}, {'t': 'il'}, {'t': 'ait'}, {'t': 'assez'}, {'t': 'Ensint'}, {'t': 'e'}, {'t': 'covanra'}, {'t': 'doner'}, {'t': 'se'}, {'t': 'tu'}, {'t': 'viaus'}, {'t': 'doner'}, {'t': 'selonc'}, {'t': 'droiture'}, {'t': 'Et'}, {'t': 'se'}, {'t': 'tu'}, {'t': 'lo'}, {'t': 'fais'}, {'t': 'einsin'}, {'t': 'autresin'}, {'t': 'covanra'}, {'t': 'que'}, {'t': 'la'}, {'t': 'reine'}, {'t': 'lo'}, {'t': 'face'}, {'t': 'as'}, {'t': 'dames'}, {'t': 'et'}, {'t': 'as'}, {'t': 'damoiseles'}, {'t': 'de'}, {'t': 'chascun'}, {'t': 'païs'}, {'t': 'ou'}, {'t': 'ele'}, {'t': 'vanra'}, {'t': 'que'}, {'t': 'tu'}, {'t': 'et'}, {'t': 'ele'}, {'t': 'donez'}, {'t': 'si'}, {'t': 'com'}, {'t': 'li'}, {'t': 'Sages'}, {'t': 'lo'}, {'t': 'comande'}, {'t': 'Li'}, {'t': 'Sages'}, {'t': 'dit'}, {'t': 'que'}, {'t': 'autresi'}, {'t': 'liez'}, {'t': 'doit'}, {'t': 'estre'}, {'t': 'li'}, {'t': 'donneres'}, {'t': 'an'}, {'t': 'son'}, {'t': 'don'}, {'t': 'con'}, {'t': 'est'}, {'t': 'cil'}, {'t': 'cui'}, {'t': 'an'}, {'t': 'lo'}, {'t': 'done'}, {'t': 'L'}, {'t': 'an'}, {'t': 'ne'}, {'t': 'doit'}, {'t': 'mie'}, {'t': 'doner'}, {'t': 'a'}, {'t': 'laide'}, {'t': 'chierre'}, {'t': 'mais'}, {'t': 'tozjorz'}, {'t': 'a'}, {'t': 'lié'}, {'t': 'sanblant'}, {'t': 'car'}, {'t': 'dons'}, {'t': 'qui'}, {'t': 'est'}, {'t': 'lieement'}, {'t': 'donez'}, {'t': 'a'}, {'t': 'deus'}, {'t': 'paires'}, {'t': 'de'}, {'t': 'merites'}, {'t': 'et'}, {'t': 'cil'}, {'t': 'qui'}, {'t': 'est'}, {'t': 'donez'}, {'t': 'an'}, {'t': 'rechinant'}, {'t': 'n'}, {'t': 'a'}, {'t': 'nul'}, {'t': 'guerredon'}]}, {'id': 'B', 'tokens': [{'t': 'Mais'}, {'t': 'aux'}, {'t': 'povres'}, {'t': 'hommes'}, {'t': 'doit'}, {'t': 'on'}, {'t': 'telles'}, {'t': 'choses'}, {'t': 'donner'}, {'t': 'qui'}, {'t': 'soient'}, {'t': 'plus'}, {'t': 'bonnes'}, {'t': 'que'}, {'t': 'belles'}, {'t': 'car'}, {'t': 'povreté'}, {'t': 'ne'}, {'t': 'a'}, {'t': 'mestier'}, {'t': 'que'}, {'t': 'de'}, {'t': 'amendement'}, {'t': 'ne'}, {'t': 'richesse'}, {'t': 'fors'}, {'t': 'de'}, {'t': 'delict'}, {'t': 'ne'}, {'t': 'toutes'}, {'t': 'choses'}, {'t': 'ne'}, {'t': 'sont'}, {'t': 'mie'}, {'t': 'a'}, {'t': 'donner'}, {'t': 'a'}, {'t': 'tous'}, {'t': 'car'}, {'t': 'l'}, {'t': 'en'}, {'t': 'ne'}, {'t': 'sçait'}, {'t': 'mie'}, {'t': 'a'}, {'t': 'homme'}, {'t': 'donner'}, {'t': 'chose'}, {'t': 'dont'}, {'t': 'il'}, {'t': 'ait'}, {'t': 'assez'}, {'t': 'Ainsi'}, {'t': 'te'}, {'t': 'convendra'}, {'t': 'donner'}, {'t': 'selon'}, {'t': 'droiture'}, {'t': 'Et'}, {'t': 'se'}, {'t': 'tu'}, {'t': 'le'}, {'t': 'fais'}, {'t': 'ainsi'}, {'t': 'aussi'}, {'t': 'le'}, {'t': 'convendra'}, {'t': 'faire'}, {'t': 'la'}, {'t': 'royne'}, {'t': 'aux'}, {'t': 'dames'}, {'t': 'et'}, {'t': 'aux'}, {'t': 'damoiselles'}, {'t': 'du'}, {'t': 'païs'}, {'t': 'ou'}, {'t': 'elle'}, {'t': 'vendra'}, {'t': 'Si'}, {'t': 'convendra'}, {'t': 'que'}, {'t': 'vous'}, {'t': 'donnez'}, {'t': 'comme'}, {'t': 'le'}, {'t': 'Sage'}, {'t': 'commande'}, {'t': 'Et'}, {'t': 'dist'}, {'t': 'que'}, {'t': 'aussi'}, {'t': 'doit'}, {'t': 'estre'}, {'t': 'joieux'}, {'t': 'le'}, {'t': 'donneur'}, {'t': 'en'}, {'t': 'son'}, {'t': 'don'}, {'t': 'comme'}, {'t': 'est'}, {'t': 'celui'}, {'t': 'a'}, {'t': 'qui'}, {'t': 'il'}, {'t': 'le'}, {'t': 'donne'}, {'t': 'L'}, {'t': 'en'}, {'t': 'ne'}, {'t': 'doit'}, {'t': 'mie'}, {'t': 'donner'}, {'t': 'a'}, {'t': 'laide'}, {'t': 'chiere'}, {'t': 'mais'}, {'t': 'tousjours'}, {'t': 'a'}, {'t': 'beau'}, {'t': 'semblant'}, {'t': 'car'}, {'t': 'don'}, {'t': 'lieement'}, {'t': 'donné'}, {'t': 'a'}, {'t': 'deux'}, {'t': 'manieres'}, {'t': 'de'}, {'t': 'merites'}, {'t': 'Et'}, {'t': 'celui'}, {'t': 'qui'}, {'t': 'est'}, {'t': 'donné'}, {'t': 'en'}, {'t': 'richignant'}, {'t': 'ne'}, {'t': 'doit'}, {'t': 'nul'}, {'t': 'guerdon'}]}, {'id': 'C', 'tokens': [{'t': 'Mais'}, {'t': 'au'}, {'t': 'povre'}, {'t': 'home'}, {'t': 'doit'}, {'t': 'l'}, {'t': 'en'}, {'t': 'douner'}, {'t': 'tex'}, {'t': 'choses'}, {'t': 'qui'}, {'t': 'soient'}, {'t': 'plus'}, {'t': 'boines'}, {'t': 'que'}, {'t': 'beles'}, {'t': 'et'}, {'t': 'plus'}, {'t': 'profitables'}, {'t': 'que'}, {'t': 'plaisans'}, {'t': 'car'}, {'t': 'povertés'}, {'t': 'n'}, {'t': 'a'}, {'t': 'mestier'}, {'t': 'fors'}, {'t': 'd'}, {'t': 'amendement'}, {'t': 'et'}, {'t': 'riquece'}, {'t': 'n'}, {'t': 'a'}, {'t': 'mestier'}, {'t': 'fors'}, {'t': 'de'}, {'t': 'delit'}, {'t': 'ne'}, {'t': 'tex'}, {'t': 'choses'}, {'t': 'nefont'}, {'t': 'mie'}, {'t': 'a'}, {'t': 'douner'}, {'t': 'a'}, {'t': 'tous'}, {'t': 'car'}, {'t': 'on'}, {'t': 'ne'}, {'t': 'doit'}, {'t': 'doner'}, {'t': 'a'}, {'t': 'home'}, {'t': 'chose'}, {'t': 'dont'}, {'t': 'il'}, {'t': 'a'}, {'t': 'assés'}, {'t': 'Ensi'}, {'t': 'te'}, {'t': 'convenra'}, {'t': 'doner'}, {'t': 'se'}, {'t': 'tu'}, {'t': 'vels'}, {'t': 'doner'}, {'t': 'selonc'}, {'t': 'droiture;'}, {'t': 'et'}, {'t': 'se'}, {'t': 'tu'}, {'t': 'le'}, {'t': 'fais'}, {'t': 'ensi'}, {'t': 'autresi'}, {'t': 'covenra'}, {'t': 'que'}, {'t': 'la'}, {'t': 'roine'}, {'t': 'le'}, {'t': 'face'}, {'t': 'as'}, {'t': 'dames'}, {'t': 'et'}, {'t': 'as'}, {'t': 'damoiseles'}, {'t': 'del'}, {'t': 'païs'}, {'t': 'ou'}, {'t': 'ele'}, {'t': 'venra'}, {'t': 'et'}, {'t': 'que'}, {'t': 'tuet'}, {'t': 'ele'}, {'t': 'doigniés'}, {'t': 'si'}, {'t': 'com'}, {'t': 'li'}, {'t': 'sages'}, {'t': 'le'}, {'t': 'commande'}, {'t': 'Li'}, {'t': 'sages'}, {'t': 'dist'}, {'t': 'que'}, {'t': 'autresi'}, {'t': 'liés'}, {'t': 'doit'}, {'t': 'estre'}, {'t': 'li'}, {'t': 'doneres'}, {'t': 'en'}, {'t': 'son'}, {'t': 'don'}, {'t': 'com'}, {'t': 'est'}, {'t': 'chil'}, {'t': 'qui'}, {'t': 'onle'}, {'t': 'doune'}, {'t': ':'}, {'t': 'l'}, {'t': 'en'}, {'t': 'ne'}, {'t': 'doit'}, {'t': 'mie'}, {'t': 'doner'}, {'t': 'a'}, {'t': 'laide'}, {'t': 'chiere'}, {'t': 'mais'}, {'t': 'tos'}, {'t': 'jors'}, {'t': 'doner'}, {'t': 'a'}, {'t': 'lié'}, {'t': 'samblant'}, {'t': 'car'}, {'t': 'en'}, {'t': 'liement'}, {'t': 'doner'}, {'t': 'a'}]}]}\n"
     ]
    }
   ],
   "source": [
    "#le dictionnaire niveau général\n",
    "json_input = {}\n",
    "#la première entrée qui contient les witnesses\n",
    "json_input['witnesses'] = []\n",
    "#application de la fonction de transformation sur A puis sur B\n",
    "json_input['witnesses'].append(XMLtoJson('A',A1))\n",
    "json_input['witnesses'].append(XMLtoJson('B',B1))\n",
    "json_input['witnesses'].append(XMLtoJson('C',C1))\n",
    "print(json_input)\n",
    "#on a bien à  le json créé !      "
   ]
  },
  {
   "cell_type": "code",
   "execution_count": 5,
   "id": "2f611050",
   "metadata": {},
   "outputs": [
    {
     "data": {
      "text/plain": [
       "<collatex.core_classes.AlignmentTable at 0x7fddf7782e80>"
      ]
     },
     "execution_count": 5,
     "metadata": {},
     "output_type": "execute_result"
    }
   ],
   "source": [
    "#collation\n",
    "coll = collate(json_input, output=\"table\",segmentation=False)\n",
    "coll"
   ]
  },
  {
   "cell_type": "code",
   "execution_count": 6,
   "id": "bcdd4a2d",
   "metadata": {},
   "outputs": [],
   "source": [
    "#définition de la fonction notre export\n",
    "def notre_export_xml(table):\n",
    "    readings = []\n",
    "    for column in table.columns:\n",
    "        #création élément app\n",
    "        app = et.Element('app')\n",
    "        for key, value in sorted(column.tokens_per_witness.items()):\n",
    "            #création d'élément rdg\n",
    "            child = et.Element('rdg')\n",
    "            child.attrib['wit'] = \"#\" + key\n",
    "            child.text = \"\".join(str(item.token_data[\"t\"]) for item in value)\n",
    "            app.append(child)\n",
    "        result = et.tostring(app, encoding=\"unicode\")\n",
    "        readings.append(result)\n",
    "    return \"\".join(readings)"
   ]
  },
  {
   "cell_type": "code",
   "execution_count": 7,
   "id": "a85a5c42",
   "metadata": {},
   "outputs": [],
   "source": [
    "collResult = notre_export_xml(coll) "
   ]
  },
  {
   "cell_type": "code",
   "execution_count": 8,
   "id": "7adface5",
   "metadata": {},
   "outputs": [],
   "source": [
    "docCollResult = \"<text>\" + ''.join(collResult) + \"</text>\""
   ]
  },
  {
   "cell_type": "code",
   "execution_count": 9,
   "id": "c2cdb72c",
   "metadata": {},
   "outputs": [
    {
     "data": {
      "text/plain": [
       "'<text><app><rdg wit=\"#A\">Mais</rdg><rdg wit=\"#B\">Mais</rdg><rdg wit=\"#C\">Mais</rdg></app><app><rdg wit=\"#A\">au</rdg><rdg wit=\"#B\">aux</rdg><rdg wit=\"#C\">au</rdg></app><app><rdg wit=\"#A\">povre</rdg><rdg wit=\"#B\">povres</rdg><rdg wit=\"#C\">povre</rdg></app><app><rdg wit=\"#A\">home</rdg><rdg wit=\"#B\">hommes</rdg><rdg wit=\"#C\">home</rdg></app><app><rdg wit=\"#A\">doit</rdg><rdg wit=\"#B\">doit</rdg><rdg wit=\"#C\">doit</rdg></app><app><rdg wit=\"#A\">l</rdg><rdg wit=\"#B\">on</rdg><rdg wit=\"#C\">l</rdg></app><app><rdg wit=\"#A\">en</rdg><rdg wit=\"#B\">telles</rdg><rdg wit=\"#C\">en</rdg></app><app><rdg wit=\"#A\">doner</rdg><rdg wit=\"#C\">douner</rdg></app><app><rdg wit=\"#A\">tex</rdg><rdg wit=\"#C\">tex</rdg></app><app><rdg wit=\"#A\">choses</rdg><rdg wit=\"#B\">choses</rdg><rdg wit=\"#C\">choses</rdg></app><app><rdg wit=\"#B\">donner</rdg></app><app><rdg wit=\"#A\">qui</rdg><rdg wit=\"#B\">qui</rdg><rdg wit=\"#C\">qui</rdg></app><app><rdg wit=\"#A\">soient</rdg><rdg wit=\"#B\">soient</rdg><rdg wit=\"#C\">soient</rdg></app><app><rdg wit=\"#A\">plus</rdg><rdg wit=\"#C\">plus</rdg></app><app><rdg wit=\"#A\">boenes</rdg><rdg wit=\"#C\">boines</rdg></app><app><rdg wit=\"#A\">que</rdg><rdg wit=\"#C\">que</rdg></app><app><rdg wit=\"#A\">beles</rdg><rdg wit=\"#C\">beles</rdg></app><app><rdg wit=\"#A\">et</rdg><rdg wit=\"#C\">et</rdg></app><app><rdg wit=\"#A\">plus</rdg><rdg wit=\"#B\">plus</rdg><rdg wit=\"#C\">plus</rdg></app><app><rdg wit=\"#A\">porfitables</rdg><rdg wit=\"#B\">bonnes</rdg><rdg wit=\"#C\">profitables</rdg></app><app><rdg wit=\"#A\">que</rdg><rdg wit=\"#B\">que</rdg><rdg wit=\"#C\">que</rdg></app><app><rdg wit=\"#A\">plaisanz</rdg><rdg wit=\"#B\">belles</rdg><rdg wit=\"#C\">plaisans</rdg></app><app><rdg wit=\"#A\">car</rdg><rdg wit=\"#B\">car</rdg><rdg wit=\"#C\">car</rdg></app><app><rdg wit=\"#A\">povretez</rdg><rdg wit=\"#B\">povreté</rdg><rdg wit=\"#C\">povertés</rdg></app><app><rdg wit=\"#A\">n</rdg><rdg wit=\"#B\">ne</rdg><rdg wit=\"#C\">n</rdg></app><app><rdg wit=\"#A\">a</rdg><rdg wit=\"#B\">a</rdg><rdg wit=\"#C\">a</rdg></app><app><rdg wit=\"#A\">mestier</rdg><rdg wit=\"#B\">mestier</rdg><rdg wit=\"#C\">mestier</rdg></app><app><rdg wit=\"#A\">que</rdg><rdg wit=\"#B\">que</rdg><rdg wit=\"#C\">fors</rdg></app><app><rdg wit=\"#A\">d</rdg><rdg wit=\"#B\">de</rdg><rdg wit=\"#C\">d</rdg></app><app><rdg wit=\"#A\">amendement</rdg><rdg wit=\"#B\">amendement</rdg><rdg wit=\"#C\">amendement</rdg></app><app><rdg wit=\"#A\">et</rdg><rdg wit=\"#B\">ne</rdg><rdg wit=\"#C\">et</rdg></app><app><rdg wit=\"#A\">richece</rdg><rdg wit=\"#B\">richesse</rdg><rdg wit=\"#C\">riquece</rdg></app><app><rdg wit=\"#A\">n</rdg><rdg wit=\"#B\">fors</rdg><rdg wit=\"#C\">n</rdg></app><app><rdg wit=\"#A\">a</rdg><rdg wit=\"#C\">a</rdg></app><app><rdg wit=\"#A\">mestier</rdg><rdg wit=\"#C\">mestier</rdg></app><app><rdg wit=\"#A\">que</rdg><rdg wit=\"#C\">fors</rdg></app><app><rdg wit=\"#A\">de</rdg><rdg wit=\"#B\">de</rdg><rdg wit=\"#C\">de</rdg></app><app><rdg wit=\"#A\">delit</rdg><rdg wit=\"#B\">delict</rdg><rdg wit=\"#C\">delit</rdg></app><app><rdg wit=\"#A\">Ne</rdg><rdg wit=\"#B\">ne</rdg><rdg wit=\"#C\">ne</rdg></app><app><rdg wit=\"#A\">tex</rdg><rdg wit=\"#B\">toutes</rdg><rdg wit=\"#C\">tex</rdg></app><app><rdg wit=\"#A\">choses</rdg><rdg wit=\"#B\">choses</rdg><rdg wit=\"#C\">choses</rdg></app><app><rdg wit=\"#A\">nefont</rdg><rdg wit=\"#B\">ne</rdg><rdg wit=\"#C\">nefont</rdg></app><app><rdg wit=\"#B\">sont</rdg></app><app><rdg wit=\"#A\">mie</rdg><rdg wit=\"#B\">mie</rdg><rdg wit=\"#C\">mie</rdg></app><app><rdg wit=\"#A\">a</rdg><rdg wit=\"#B\">a</rdg><rdg wit=\"#C\">a</rdg></app><app><rdg wit=\"#A\">doner</rdg><rdg wit=\"#B\">donner</rdg><rdg wit=\"#C\">douner</rdg></app><app><rdg wit=\"#A\">a</rdg><rdg wit=\"#B\">a</rdg><rdg wit=\"#C\">a</rdg></app><app><rdg wit=\"#A\">toz</rdg><rdg wit=\"#B\">tous</rdg><rdg wit=\"#C\">tous</rdg></app><app><rdg wit=\"#A\">car</rdg><rdg wit=\"#B\">car</rdg><rdg wit=\"#C\">car</rdg></app><app><rdg wit=\"#B\">l</rdg><rdg wit=\"#C\">on</rdg></app><app><rdg wit=\"#A\">en</rdg><rdg wit=\"#B\">en</rdg></app><app><rdg wit=\"#A\">ne</rdg><rdg wit=\"#B\">ne</rdg><rdg wit=\"#C\">ne</rdg></app><app><rdg wit=\"#A\">doit</rdg><rdg wit=\"#B\">sçait</rdg><rdg wit=\"#C\">doit</rdg></app><app><rdg wit=\"#A\">doner</rdg><rdg wit=\"#B\">mie</rdg><rdg wit=\"#C\">doner</rdg></app><app><rdg wit=\"#A\">a</rdg><rdg wit=\"#B\">a</rdg><rdg wit=\"#C\">a</rdg></app><app><rdg wit=\"#A\">home</rdg><rdg wit=\"#B\">homme</rdg><rdg wit=\"#C\">home</rdg></app><app><rdg wit=\"#B\">donner</rdg></app><app><rdg wit=\"#A\">chose</rdg><rdg wit=\"#B\">chose</rdg><rdg wit=\"#C\">chose</rdg></app><app><rdg wit=\"#A\">dom</rdg><rdg wit=\"#B\">dont</rdg><rdg wit=\"#C\">dont</rdg></app><app><rdg wit=\"#A\">il</rdg><rdg wit=\"#B\">il</rdg><rdg wit=\"#C\">il</rdg></app><app><rdg wit=\"#A\">ait</rdg><rdg wit=\"#B\">ait</rdg><rdg wit=\"#C\">a</rdg></app><app><rdg wit=\"#A\">assez</rdg><rdg wit=\"#B\">assez</rdg><rdg wit=\"#C\">assés</rdg></app><app><rdg wit=\"#A\">Ensint</rdg><rdg wit=\"#B\">Ainsi</rdg><rdg wit=\"#C\">Ensi</rdg></app><app><rdg wit=\"#A\">e</rdg><rdg wit=\"#B\">te</rdg><rdg wit=\"#C\">te</rdg></app><app><rdg wit=\"#A\">covanra</rdg><rdg wit=\"#B\">convendra</rdg><rdg wit=\"#C\">convenra</rdg></app><app><rdg wit=\"#A\">doner</rdg><rdg wit=\"#B\">donner</rdg><rdg wit=\"#C\">doner</rdg></app><app><rdg wit=\"#A\">se</rdg><rdg wit=\"#B\">selon</rdg><rdg wit=\"#C\">se</rdg></app><app><rdg wit=\"#A\">tu</rdg><rdg wit=\"#C\">tu</rdg></app><app><rdg wit=\"#A\">viaus</rdg><rdg wit=\"#C\">vels</rdg></app><app><rdg wit=\"#A\">doner</rdg><rdg wit=\"#C\">doner</rdg></app><app><rdg wit=\"#A\">selonc</rdg><rdg wit=\"#C\">selonc</rdg></app><app><rdg wit=\"#A\">droiture</rdg><rdg wit=\"#B\">droiture</rdg><rdg wit=\"#C\">droiture;</rdg></app><app><rdg wit=\"#A\">Et</rdg><rdg wit=\"#B\">Et</rdg><rdg wit=\"#C\">et</rdg></app><app><rdg wit=\"#A\">se</rdg><rdg wit=\"#B\">se</rdg><rdg wit=\"#C\">se</rdg></app><app><rdg wit=\"#A\">tu</rdg><rdg wit=\"#B\">tu</rdg><rdg wit=\"#C\">tu</rdg></app><app><rdg wit=\"#A\">lo</rdg><rdg wit=\"#B\">le</rdg><rdg wit=\"#C\">le</rdg></app><app><rdg wit=\"#A\">fais</rdg><rdg wit=\"#B\">fais</rdg><rdg wit=\"#C\">fais</rdg></app><app><rdg wit=\"#A\">einsin</rdg><rdg wit=\"#B\">ainsi</rdg><rdg wit=\"#C\">ensi</rdg></app><app><rdg wit=\"#A\">autresin</rdg><rdg wit=\"#B\">aussi</rdg><rdg wit=\"#C\">autresi</rdg></app><app><rdg wit=\"#A\">covanra</rdg><rdg wit=\"#B\">le</rdg><rdg wit=\"#C\">covenra</rdg></app><app><rdg wit=\"#A\">que</rdg><rdg wit=\"#B\">convendra</rdg><rdg wit=\"#C\">que</rdg></app><app><rdg wit=\"#B\">faire</rdg></app><app><rdg wit=\"#A\">la</rdg><rdg wit=\"#B\">la</rdg><rdg wit=\"#C\">la</rdg></app><app><rdg wit=\"#A\">reine</rdg><rdg wit=\"#B\">royne</rdg><rdg wit=\"#C\">roine</rdg></app><app><rdg wit=\"#A\">lo</rdg><rdg wit=\"#B\">aux</rdg><rdg wit=\"#C\">le</rdg></app><app><rdg wit=\"#A\">face</rdg><rdg wit=\"#C\">face</rdg></app><app><rdg wit=\"#A\">as</rdg><rdg wit=\"#C\">as</rdg></app><app><rdg wit=\"#A\">dames</rdg><rdg wit=\"#B\">dames</rdg><rdg wit=\"#C\">dames</rdg></app><app><rdg wit=\"#A\">et</rdg><rdg wit=\"#B\">et</rdg><rdg wit=\"#C\">et</rdg></app><app><rdg wit=\"#A\">as</rdg><rdg wit=\"#B\">aux</rdg><rdg wit=\"#C\">as</rdg></app><app><rdg wit=\"#A\">damoiseles</rdg><rdg wit=\"#B\">damoiselles</rdg><rdg wit=\"#C\">damoiseles</rdg></app><app><rdg wit=\"#A\">de</rdg><rdg wit=\"#B\">du</rdg><rdg wit=\"#C\">del</rdg></app><app><rdg wit=\"#A\">chascun</rdg></app><app><rdg wit=\"#A\">païs</rdg><rdg wit=\"#B\">païs</rdg><rdg wit=\"#C\">païs</rdg></app><app><rdg wit=\"#A\">ou</rdg><rdg wit=\"#B\">ou</rdg><rdg wit=\"#C\">ou</rdg></app><app><rdg wit=\"#A\">ele</rdg><rdg wit=\"#B\">elle</rdg><rdg wit=\"#C\">ele</rdg></app><app><rdg wit=\"#A\">vanra</rdg><rdg wit=\"#B\">vendra</rdg><rdg wit=\"#C\">venra</rdg></app><app><rdg wit=\"#A\">que</rdg><rdg wit=\"#B\">Si</rdg></app><app><rdg wit=\"#A\">tu</rdg><rdg wit=\"#B\">convendra</rdg></app><app><rdg wit=\"#A\">et</rdg><rdg wit=\"#C\">et</rdg></app><app><rdg wit=\"#B\">que</rdg><rdg wit=\"#C\">que</rdg></app><app><rdg wit=\"#B\">vous</rdg><rdg wit=\"#C\">tuet</rdg></app><app><rdg wit=\"#A\">ele</rdg><rdg wit=\"#B\">donnez</rdg><rdg wit=\"#C\">ele</rdg></app><app><rdg wit=\"#A\">donez</rdg><rdg wit=\"#B\">comme</rdg><rdg wit=\"#C\">doigniés</rdg></app><app><rdg wit=\"#A\">si</rdg><rdg wit=\"#B\">le</rdg><rdg wit=\"#C\">si</rdg></app><app><rdg wit=\"#A\">com</rdg><rdg wit=\"#B\">Sage</rdg><rdg wit=\"#C\">com</rdg></app><app><rdg wit=\"#A\">li</rdg><rdg wit=\"#B\">commande</rdg><rdg wit=\"#C\">li</rdg></app><app><rdg wit=\"#A\">Sages</rdg><rdg wit=\"#B\">Et</rdg><rdg wit=\"#C\">sages</rdg></app><app><rdg wit=\"#A\">lo</rdg><rdg wit=\"#B\">dist</rdg><rdg wit=\"#C\">le</rdg></app><app><rdg wit=\"#A\">comande</rdg><rdg wit=\"#C\">commande</rdg></app><app><rdg wit=\"#A\">Li</rdg><rdg wit=\"#C\">Li</rdg></app><app><rdg wit=\"#A\">Sages</rdg><rdg wit=\"#C\">sages</rdg></app><app><rdg wit=\"#A\">dit</rdg><rdg wit=\"#C\">dist</rdg></app><app><rdg wit=\"#A\">que</rdg><rdg wit=\"#B\">que</rdg><rdg wit=\"#C\">que</rdg></app><app><rdg wit=\"#A\">autresi</rdg><rdg wit=\"#B\">aussi</rdg><rdg wit=\"#C\">autresi</rdg></app><app><rdg wit=\"#A\">liez</rdg><rdg wit=\"#C\">liés</rdg></app><app><rdg wit=\"#A\">doit</rdg><rdg wit=\"#B\">doit</rdg><rdg wit=\"#C\">doit</rdg></app><app><rdg wit=\"#A\">estre</rdg><rdg wit=\"#B\">estre</rdg><rdg wit=\"#C\">estre</rdg></app><app><rdg wit=\"#A\">li</rdg><rdg wit=\"#B\">joieux</rdg><rdg wit=\"#C\">li</rdg></app><app><rdg wit=\"#A\">donneres</rdg><rdg wit=\"#B\">le</rdg><rdg wit=\"#C\">doneres</rdg></app><app><rdg wit=\"#A\">an</rdg><rdg wit=\"#B\">donneur</rdg></app><app><rdg wit=\"#B\">en</rdg><rdg wit=\"#C\">en</rdg></app><app><rdg wit=\"#A\">son</rdg><rdg wit=\"#B\">son</rdg><rdg wit=\"#C\">son</rdg></app><app><rdg wit=\"#A\">don</rdg><rdg wit=\"#B\">don</rdg><rdg wit=\"#C\">don</rdg></app><app><rdg wit=\"#A\">con</rdg><rdg wit=\"#B\">comme</rdg><rdg wit=\"#C\">com</rdg></app><app><rdg wit=\"#A\">est</rdg><rdg wit=\"#B\">est</rdg><rdg wit=\"#C\">est</rdg></app><app><rdg wit=\"#A\">cil</rdg><rdg wit=\"#B\">celui</rdg><rdg wit=\"#C\">chil</rdg></app><app><rdg wit=\"#A\">cui</rdg><rdg wit=\"#B\">a</rdg></app><app><rdg wit=\"#A\">an</rdg><rdg wit=\"#B\">qui</rdg><rdg wit=\"#C\">qui</rdg></app><app><rdg wit=\"#A\">lo</rdg><rdg wit=\"#B\">il</rdg><rdg wit=\"#C\">onle</rdg></app><app><rdg wit=\"#A\">done</rdg><rdg wit=\"#B\">le</rdg><rdg wit=\"#C\">doune</rdg></app><app><rdg wit=\"#B\">donne</rdg><rdg wit=\"#C\">:</rdg></app><app><rdg wit=\"#A\">L</rdg><rdg wit=\"#B\">L</rdg><rdg wit=\"#C\">l</rdg></app><app><rdg wit=\"#A\">an</rdg><rdg wit=\"#B\">en</rdg><rdg wit=\"#C\">en</rdg></app><app><rdg wit=\"#A\">ne</rdg><rdg wit=\"#B\">ne</rdg><rdg wit=\"#C\">ne</rdg></app><app><rdg wit=\"#A\">doit</rdg><rdg wit=\"#B\">doit</rdg><rdg wit=\"#C\">doit</rdg></app><app><rdg wit=\"#A\">mie</rdg><rdg wit=\"#B\">mie</rdg><rdg wit=\"#C\">mie</rdg></app><app><rdg wit=\"#A\">doner</rdg><rdg wit=\"#B\">donner</rdg><rdg wit=\"#C\">doner</rdg></app><app><rdg wit=\"#A\">a</rdg><rdg wit=\"#B\">a</rdg><rdg wit=\"#C\">a</rdg></app><app><rdg wit=\"#A\">laide</rdg><rdg wit=\"#B\">laide</rdg><rdg wit=\"#C\">laide</rdg></app><app><rdg wit=\"#A\">chierre</rdg><rdg wit=\"#B\">chiere</rdg><rdg wit=\"#C\">chiere</rdg></app><app><rdg wit=\"#A\">mais</rdg><rdg wit=\"#B\">mais</rdg><rdg wit=\"#C\">mais</rdg></app><app><rdg wit=\"#A\">tozjorz</rdg><rdg wit=\"#B\">tousjours</rdg><rdg wit=\"#C\">tos</rdg></app><app><rdg wit=\"#C\">jors</rdg></app><app><rdg wit=\"#C\">doner</rdg></app><app><rdg wit=\"#A\">a</rdg><rdg wit=\"#B\">a</rdg><rdg wit=\"#C\">a</rdg></app><app><rdg wit=\"#A\">lié</rdg><rdg wit=\"#B\">beau</rdg><rdg wit=\"#C\">lié</rdg></app><app><rdg wit=\"#A\">sanblant</rdg><rdg wit=\"#B\">semblant</rdg><rdg wit=\"#C\">samblant</rdg></app><app><rdg wit=\"#A\">car</rdg><rdg wit=\"#B\">car</rdg><rdg wit=\"#C\">car</rdg></app><app><rdg wit=\"#A\">dons</rdg><rdg wit=\"#B\">don</rdg></app><app><rdg wit=\"#A\">qui</rdg></app><app><rdg wit=\"#A\">est</rdg></app><app><rdg wit=\"#A\">lieement</rdg><rdg wit=\"#B\">lieement</rdg></app><app><rdg wit=\"#A\">donez</rdg><rdg wit=\"#B\">donné</rdg></app><app><rdg wit=\"#A\">a</rdg><rdg wit=\"#B\">a</rdg></app><app><rdg wit=\"#A\">deus</rdg><rdg wit=\"#B\">deux</rdg></app><app><rdg wit=\"#A\">paires</rdg><rdg wit=\"#B\">manieres</rdg></app><app><rdg wit=\"#A\">de</rdg><rdg wit=\"#B\">de</rdg></app><app><rdg wit=\"#A\">merites</rdg><rdg wit=\"#B\">merites</rdg></app><app><rdg wit=\"#A\">et</rdg><rdg wit=\"#B\">Et</rdg></app><app><rdg wit=\"#A\">cil</rdg><rdg wit=\"#B\">celui</rdg></app><app><rdg wit=\"#A\">qui</rdg><rdg wit=\"#B\">qui</rdg></app><app><rdg wit=\"#A\">est</rdg><rdg wit=\"#B\">est</rdg></app><app><rdg wit=\"#A\">donez</rdg><rdg wit=\"#B\">donné</rdg></app><app><rdg wit=\"#A\">an</rdg><rdg wit=\"#B\">en</rdg><rdg wit=\"#C\">en</rdg></app><app><rdg wit=\"#A\">rechinant</rdg><rdg wit=\"#B\">richignant</rdg><rdg wit=\"#C\">liement</rdg></app><app><rdg wit=\"#A\">n</rdg><rdg wit=\"#B\">ne</rdg><rdg wit=\"#C\">doner</rdg></app><app><rdg wit=\"#A\">a</rdg><rdg wit=\"#B\">doit</rdg><rdg wit=\"#C\">a</rdg></app><app><rdg wit=\"#A\">nul</rdg><rdg wit=\"#B\">nul</rdg></app><app><rdg wit=\"#A\">guerredon</rdg><rdg wit=\"#B\">guerdon</rdg></app></text>'"
      ]
     },
     "execution_count": 9,
     "metadata": {},
     "output_type": "execute_result"
    }
   ],
   "source": [
    "docCollResult"
   ]
  },
  {
   "cell_type": "code",
   "execution_count": 10,
   "id": "1712909a",
   "metadata": {},
   "outputs": [],
   "source": [
    "#on écrit le résultat (une simple chaîne de caractères) dans notre document XML\n",
    "with open(\"resultat_collation_depuisXML3SansL.xml\", \"w\") as text_file:\n",
    "    text_file.write(docCollResult)   "
   ]
  }
 ],
 "metadata": {
  "kernelspec": {
   "display_name": "Python 3",
   "language": "python",
   "name": "python3"
  },
  "language_info": {
   "codemirror_mode": {
    "name": "ipython",
    "version": 3
   },
   "file_extension": ".py",
   "mimetype": "text/x-python",
   "name": "python",
   "nbconvert_exporter": "python",
   "pygments_lexer": "ipython3",
   "version": "3.6.9"
  }
 },
 "nbformat": 4,
 "nbformat_minor": 5
}
